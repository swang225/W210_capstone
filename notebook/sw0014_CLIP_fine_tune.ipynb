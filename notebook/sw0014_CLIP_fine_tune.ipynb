{
 "cells": [
  {
   "cell_type": "code",
<<<<<<< Updated upstream
   "execution_count": 1,
   "id": "788c7559-916b-44a0-b9ed-89eb357a6047",
   "metadata": {},
   "outputs": [
    {
     "name": "stderr",
     "output_type": "stream",
     "text": [
      "c:\\users\\aphri\\miniconda3\\lib\\site-packages\\torchvision\\io\\image.py:13: UserWarning: Failed to load image Python extension: [WinError 127] The specified procedure could not be found\n",
      "  warn(f\"Failed to load image Python extension: {e}\")\n"
     ]
    }
   ],
=======
   "execution_count": 2,
   "id": "788c7559-916b-44a0-b9ed-89eb357a6047",
   "metadata": {
    "tags": []
   },
   "outputs": [],
>>>>>>> Stashed changes
   "source": [
    "import torch\n",
    "import torch.nn as nn\n",
    "import clip\n",
    "from PIL import Image\n",
    "import pandas as pd\n",
    "import requests\n",
    "import os.path as osp\n",
    "import pickle\n",
    "import random\n",
    "import numpy as np\n",
    "from pathlib import Path\n",
    "import sys\n",
    "from operator import itemgetter\n",
    "import matplotlib.pyplot as plt\n",
    "import matplotlib.image as mpimg\n",
    "import time\n",
    "import shutil\n",
    "from sklearn.model_selection import train_test_split"
   ]
  },
  {
   "cell_type": "code",
<<<<<<< Updated upstream
   "execution_count": 2,
=======
   "execution_count": 3,
>>>>>>> Stashed changes
   "id": "96f93d83-9832-4a8a-86d7-b209dc58a1a6",
   "metadata": {
    "tags": []
   },
   "outputs": [],
   "source": [
    "dataset_path = \"data/cleaned_target_furniture_dataset.csv\"\n",
    "finetune_data_path = \"data\"\n",
    "image_storage = \"data/target_images\"\n",
    "train_data_path = osp.join(finetune_data_path, \"train_data.pkl\")\n",
    "subset_data_path = osp.join(finetune_data_path, \"subset_data.pkl\")\n",
    "model_path = osp.join(finetune_data_path, \"finetuned_model.pt\")\n",
    "\n",
    "Path(finetune_data_path).mkdir(parents=True, exist_ok=True)"
   ]
  },
  {
   "cell_type": "code",
   "execution_count": 4,
   "id": "c4575e7f-26f9-48a7-af43-eea13cda97ee",
   "metadata": {
    "tags": []
   },
   "outputs": [],
   "source": [
    "def read_pickle(dir):\n",
    "    with open(dir, 'rb') as handle:\n",
    "        b = pickle.load(handle)\n",
    "    return b\n",
    "\n",
    "\n",
    "def write_pickle(dir, data):\n",
    "    with open(dir, 'wb') as handle:\n",
    "        pickle.dump(data, handle, protocol=pickle.HIGHEST_PROTOCOL)"
   ]
  },
  {
   "cell_type": "code",
   "execution_count": 5,
   "id": "57095c5e-f940-4d04-bc36-5bc885e1b8a8",
   "metadata": {
    "tags": []
   },
   "outputs": [],
   "source": [
    "def image_path(uid):\n",
    "    return osp.join(image_storage, f\"{uid}.jpg\")"
   ]
  },
  {
   "cell_type": "code",
   "execution_count": 6,
   "id": "1ebd2373-1e38-4c17-a01e-7c5954813ac1",
   "metadata": {
    "tags": []
   },
   "outputs": [],
   "source": [
    "def combine_category(x):\n",
    "    res = x[\"sub_category_1\"]\n",
    "    if not pd.isna(x[\"sub_category_2\"]):\n",
    "        res += \", \" + x[\"sub_category_2\"]\n",
    "    if not pd.isna(x[\"sub_category_3\"]):\n",
    "        res += \", \" + x[\"sub_category_3\"]\n",
    "    return res"
   ]
  },
  {
   "cell_type": "code",
   "execution_count": 7,
   "id": "dd2f31e5-80bd-4351-94a2-f5113690a24b",
   "metadata": {
    "tags": []
   },
   "outputs": [],
   "source": [
    "def clean_data(d1):\n",
    "    d1 = d1[d1[\"primary_category\"] == \"Furniture\"]\n",
    "    d1 = d1[~(d1[\"primary_category\"].isna() & d1[\"sub_category_1\"].isna() & d1[\"sub_category_2\"].isna() & d1[\"sub_category_3\"].isna())]\n",
    "    d1 = d1[~(d1[\"sub_category_1\"].isna() & d1[\"sub_category_2\"].isna() & d1[\"sub_category_3\"].isna())]\n",
    "    d1 = d1[~d1[\"description\"].isna()]\n",
    "    d1 = d1[~d1[\"colors\"].isna()]\n",
    "    d1[\"colors\"] = d1[\"colors\"].astype(str)\n",
    "    d1[\"combined_category\"] = d1.apply(combine_category, axis=1)\n",
    "    return d1"
   ]
  },
  {
   "cell_type": "code",
   "execution_count": 8,
   "id": "ddaa826c-0411-46d5-9781-f6a04fccd40a",
   "metadata": {
    "tags": []
   },
   "outputs": [],
   "source": [
    "device = \"cuda\" if torch.cuda.is_available() else \"cpu\"\n",
    "model, preprocess = clip.load(\"ViT-B/32\", device=device)"
   ]
  },
  {
   "cell_type": "code",
   "execution_count": 9,
   "id": "b9d9f2a4-59f0-4bc4-a6d6-43c65085dbfe",
   "metadata": {
    "tags": []
   },
   "outputs": [],
   "source": [
    "d1 = pd.read_csv(dataset_path)\n",
    "d1 = clean_data(d1)"
   ]
  },
  {
   "cell_type": "code",
   "execution_count": 10,
   "id": "9b59f7c7-3ea2-4032-8322-ddc51d7fa7b9",
   "metadata": {
    "tags": []
   },
   "outputs": [
    {
     "data": {
      "text/plain": [
       "<AxesSubplot:xlabel='combined_category'>"
      ]
     },
     "execution_count": 10,
     "metadata": {},
     "output_type": "execute_result"
    },
    {
     "data": {
      "image/png": "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\n",
      "text/plain": [
       "<Figure size 432x288 with 1 Axes>"
      ]
     },
     "metadata": {
      "needs_background": "light"
     },
     "output_type": "display_data"
    }
   ],
   "source": [
    "s1 = d1[[\"combined_category\", \"uniq_id\"]].groupby(\"combined_category\").count()\n",
    "s1.plot()"
   ]
  },
  {
   "cell_type": "code",
   "execution_count": 11,
<<<<<<< Updated upstream
=======
   "id": "cd27d960-9fb6-4153-912f-f6c67fd22ccd",
   "metadata": {
    "tags": []
   },
   "outputs": [
    {
     "data": {
      "text/html": [
       "<div>\n",
       "<style scoped>\n",
       "    .dataframe tbody tr th:only-of-type {\n",
       "        vertical-align: middle;\n",
       "    }\n",
       "\n",
       "    .dataframe tbody tr th {\n",
       "        vertical-align: top;\n",
       "    }\n",
       "\n",
       "    .dataframe thead th {\n",
       "        text-align: right;\n",
       "    }\n",
       "</style>\n",
       "<table border=\"1\" class=\"dataframe\">\n",
       "  <thead>\n",
       "    <tr style=\"text-align: right;\">\n",
       "      <th></th>\n",
       "      <th>uniq_id</th>\n",
       "    </tr>\n",
       "    <tr>\n",
       "      <th>combined_category</th>\n",
       "      <th></th>\n",
       "    </tr>\n",
       "  </thead>\n",
       "  <tbody>\n",
       "    <tr>\n",
       "      <th>Living Room Furniture, End &amp; Side Tables</th>\n",
       "      <td>2705</td>\n",
       "    </tr>\n",
       "    <tr>\n",
       "      <th>Kitchen &amp; Dining Furniture, Bar Stools &amp; Counter Stools</th>\n",
       "      <td>2389</td>\n",
       "    </tr>\n",
       "    <tr>\n",
       "      <th>Home Office Furniture, Desks</th>\n",
       "      <td>1950</td>\n",
       "    </tr>\n",
       "    <tr>\n",
       "      <th>Living Room Furniture, Ottomans &amp; Benches</th>\n",
       "      <td>1678</td>\n",
       "    </tr>\n",
       "    <tr>\n",
       "      <th>Kitchen &amp; Dining Furniture, Dining Chairs &amp; Benches</th>\n",
       "      <td>1595</td>\n",
       "    </tr>\n",
       "    <tr>\n",
       "      <th>Kitchen &amp; Dining Furniture, Dining Room Sets &amp; Collections</th>\n",
       "      <td>1360</td>\n",
       "    </tr>\n",
       "    <tr>\n",
       "      <th>Home Office Furniture, Office Chairs</th>\n",
       "      <td>1289</td>\n",
       "    </tr>\n",
       "    <tr>\n",
       "      <th>Living Room Furniture, Storage Furniture</th>\n",
       "      <td>1283</td>\n",
       "    </tr>\n",
       "    <tr>\n",
       "      <th>Living Room Furniture, TV Stands &amp; Entertainment Centers</th>\n",
       "      <td>1240</td>\n",
       "    </tr>\n",
       "    <tr>\n",
       "      <th>Living Room Furniture, Chairs, Accent Chairs</th>\n",
       "      <td>1229</td>\n",
       "    </tr>\n",
       "    <tr>\n",
       "      <th>Living Room Furniture, Coffee Tables</th>\n",
       "      <td>1124</td>\n",
       "    </tr>\n",
       "    <tr>\n",
       "      <th>Home Office Furniture, Bookshelves &amp; Bookcases</th>\n",
       "      <td>1103</td>\n",
       "    </tr>\n",
       "    <tr>\n",
       "      <th>Bedroom Furniture, Beds</th>\n",
       "      <td>994</td>\n",
       "    </tr>\n",
       "    <tr>\n",
       "      <th>Kitchen &amp; Dining Furniture, Dining Tables</th>\n",
       "      <td>932</td>\n",
       "    </tr>\n",
       "    <tr>\n",
       "      <th>Living Room Furniture, Console Tables</th>\n",
       "      <td>883</td>\n",
       "    </tr>\n",
       "    <tr>\n",
       "      <th>Bedroom Furniture, Nightstands</th>\n",
       "      <td>559</td>\n",
       "    </tr>\n",
       "    <tr>\n",
       "      <th>Bedroom Furniture, Dressers</th>\n",
       "      <td>518</td>\n",
       "    </tr>\n",
       "    <tr>\n",
       "      <th>Bedroom Furniture, Headboards</th>\n",
       "      <td>406</td>\n",
       "    </tr>\n",
       "    <tr>\n",
       "      <th>Living Room Furniture, Sofas &amp; Couches</th>\n",
       "      <td>394</td>\n",
       "    </tr>\n",
       "    <tr>\n",
       "      <th>Home Office Furniture, Filing Cabinets</th>\n",
       "      <td>382</td>\n",
       "    </tr>\n",
       "    <tr>\n",
       "      <th>Living Room Furniture, Room Dividers</th>\n",
       "      <td>361</td>\n",
       "    </tr>\n",
       "    <tr>\n",
       "      <th>Kitchen &amp; Dining Furniture, Sideboards &amp; Buffet Tables</th>\n",
       "      <td>327</td>\n",
       "    </tr>\n",
       "    <tr>\n",
       "      <th>Kitchen &amp; Dining Furniture, Kitchen Carts &amp; Islands</th>\n",
       "      <td>305</td>\n",
       "    </tr>\n",
       "    <tr>\n",
       "      <th>Kitchen &amp; Dining Furniture, Bars &amp; Wine Racks</th>\n",
       "      <td>244</td>\n",
       "    </tr>\n",
       "    <tr>\n",
       "      <th>Bedroom Furniture, Bedroom Sets &amp; Collections</th>\n",
       "      <td>239</td>\n",
       "    </tr>\n",
       "    <tr>\n",
       "      <th>Kitchen &amp; Dining Furniture, Folding Tables &amp; Chairs</th>\n",
       "      <td>233</td>\n",
       "    </tr>\n",
       "    <tr>\n",
       "      <th>Living Room Furniture, Loveseats</th>\n",
       "      <td>226</td>\n",
       "    </tr>\n",
       "    <tr>\n",
       "      <th>Entryway Furniture &amp; Organization, Coat Racks</th>\n",
       "      <td>213</td>\n",
       "    </tr>\n",
       "    <tr>\n",
       "      <th>Living Room Furniture, Living Room Sets &amp; Collections</th>\n",
       "      <td>211</td>\n",
       "    </tr>\n",
       "    <tr>\n",
       "      <th>Living Room Furniture, Sectional Sofas</th>\n",
       "      <td>208</td>\n",
       "    </tr>\n",
       "    <tr>\n",
       "      <th>Kitchen &amp; Dining Furniture, Bar Carts</th>\n",
       "      <td>186</td>\n",
       "    </tr>\n",
       "    <tr>\n",
       "      <th>Living Room Furniture, Chairs, Recliners</th>\n",
       "      <td>184</td>\n",
       "    </tr>\n",
       "    <tr>\n",
       "      <th>Entryway Furniture &amp; Organization</th>\n",
       "      <td>167</td>\n",
       "    </tr>\n",
       "    <tr>\n",
       "      <th>Bathroom Furniture</th>\n",
       "      <td>161</td>\n",
       "    </tr>\n",
       "    <tr>\n",
       "      <th>Home Office Furniture, Home Office Furniture Accessories</th>\n",
       "      <td>156</td>\n",
       "    </tr>\n",
       "    <tr>\n",
       "      <th>Home Office Furniture, Home Office Sets &amp; Collections</th>\n",
       "      <td>126</td>\n",
       "    </tr>\n",
       "    <tr>\n",
       "      <th>Kitchen &amp; Dining Furniture, Bakers' Racks &amp; Pantry Cabinets</th>\n",
       "      <td>120</td>\n",
       "    </tr>\n",
       "    <tr>\n",
       "      <th>Bedroom Furniture, Bed Frames</th>\n",
       "      <td>116</td>\n",
       "    </tr>\n",
       "    <tr>\n",
       "      <th>Bedroom Furniture, Vanities</th>\n",
       "      <td>111</td>\n",
       "    </tr>\n",
       "    <tr>\n",
       "      <th>Bedroom Furniture, Armoires &amp; Wardrobes</th>\n",
       "      <td>51</td>\n",
       "    </tr>\n",
       "    <tr>\n",
       "      <th>Bedroom Furniture, Jewelry Armoires</th>\n",
       "      <td>50</td>\n",
       "    </tr>\n",
       "    <tr>\n",
       "      <th>Living Room Furniture, Chairs, Gliders &amp; Rockers</th>\n",
       "      <td>31</td>\n",
       "    </tr>\n",
       "    <tr>\n",
       "      <th>Living Room Furniture, Chairs, Chaise Lounges</th>\n",
       "      <td>30</td>\n",
       "    </tr>\n",
       "    <tr>\n",
       "      <th>Living Room Furniture, Chairs, Bean Bag Chairs</th>\n",
       "      <td>15</td>\n",
       "    </tr>\n",
       "    <tr>\n",
       "      <th>Furniture Ways to Shop, Statement Furniture</th>\n",
       "      <td>8</td>\n",
       "    </tr>\n",
       "    <tr>\n",
       "      <th>Living Room Furniture, Sofa Beds</th>\n",
       "      <td>6</td>\n",
       "    </tr>\n",
       "    <tr>\n",
       "      <th>Living Room Furniture, Futons</th>\n",
       "      <td>4</td>\n",
       "    </tr>\n",
       "    <tr>\n",
       "      <th>Dorm Furniture</th>\n",
       "      <td>4</td>\n",
       "    </tr>\n",
       "    <tr>\n",
       "      <th>Small Space Furniture</th>\n",
       "      <td>2</td>\n",
       "    </tr>\n",
       "  </tbody>\n",
       "</table>\n",
       "</div>"
      ],
      "text/plain": [
       "                                                    uniq_id\n",
       "combined_category                                          \n",
       "Living Room Furniture, End & Side Tables               2705\n",
       "Kitchen & Dining Furniture, Bar Stools & Counte...     2389\n",
       "Home Office Furniture, Desks                           1950\n",
       "Living Room Furniture, Ottomans & Benches              1678\n",
       "Kitchen & Dining Furniture, Dining Chairs & Ben...     1595\n",
       "Kitchen & Dining Furniture, Dining Room Sets & ...     1360\n",
       "Home Office Furniture, Office Chairs                   1289\n",
       "Living Room Furniture, Storage Furniture               1283\n",
       "Living Room Furniture, TV Stands & Entertainmen...     1240\n",
       "Living Room Furniture, Chairs, Accent Chairs           1229\n",
       "Living Room Furniture, Coffee Tables                   1124\n",
       "Home Office Furniture, Bookshelves & Bookcases         1103\n",
       "Bedroom Furniture, Beds                                 994\n",
       "Kitchen & Dining Furniture, Dining Tables               932\n",
       "Living Room Furniture, Console Tables                   883\n",
       "Bedroom Furniture, Nightstands                          559\n",
       "Bedroom Furniture, Dressers                             518\n",
       "Bedroom Furniture, Headboards                           406\n",
       "Living Room Furniture, Sofas & Couches                  394\n",
       "Home Office Furniture, Filing Cabinets                  382\n",
       "Living Room Furniture, Room Dividers                    361\n",
       "Kitchen & Dining Furniture, Sideboards & Buffet...      327\n",
       "Kitchen & Dining Furniture, Kitchen Carts & Isl...      305\n",
       "Kitchen & Dining Furniture, Bars & Wine Racks           244\n",
       "Bedroom Furniture, Bedroom Sets & Collections           239\n",
       "Kitchen & Dining Furniture, Folding Tables & Ch...      233\n",
       "Living Room Furniture, Loveseats                        226\n",
       "Entryway Furniture & Organization, Coat Racks           213\n",
       "Living Room Furniture, Living Room Sets & Colle...      211\n",
       "Living Room Furniture, Sectional Sofas                  208\n",
       "Kitchen & Dining Furniture, Bar Carts                   186\n",
       "Living Room Furniture, Chairs, Recliners                184\n",
       "Entryway Furniture & Organization                       167\n",
       "Bathroom Furniture                                      161\n",
       "Home Office Furniture, Home Office Furniture Ac...      156\n",
       "Home Office Furniture, Home Office Sets & Colle...      126\n",
       "Kitchen & Dining Furniture, Bakers' Racks & Pan...      120\n",
       "Bedroom Furniture, Bed Frames                           116\n",
       "Bedroom Furniture, Vanities                             111\n",
       "Bedroom Furniture, Armoires & Wardrobes                  51\n",
       "Bedroom Furniture, Jewelry Armoires                      50\n",
       "Living Room Furniture, Chairs, Gliders & Rockers         31\n",
       "Living Room Furniture, Chairs, Chaise Lounges            30\n",
       "Living Room Furniture, Chairs, Bean Bag Chairs           15\n",
       "Furniture Ways to Shop, Statement Furniture               8\n",
       "Living Room Furniture, Sofa Beds                          6\n",
       "Living Room Furniture, Futons                             4\n",
       "Dorm Furniture                                            4\n",
       "Small Space Furniture                                     2"
      ]
     },
     "execution_count": 11,
     "metadata": {},
     "output_type": "execute_result"
    }
   ],
   "source": [
    "s1.sort_values(by='uniq_id',ascending=False)"
   ]
  },
  {
   "cell_type": "code",
   "execution_count": 12,
>>>>>>> Stashed changes
   "id": "393c0bb1-82a4-4dcb-b757-c2a8c9813bf0",
   "metadata": {
    "tags": []
   },
   "outputs": [
    {
     "data": {
      "text/html": [
       "<div>\n",
       "<style scoped>\n",
       "    .dataframe tbody tr th:only-of-type {\n",
       "        vertical-align: middle;\n",
       "    }\n",
       "\n",
       "    .dataframe tbody tr th {\n",
       "        vertical-align: top;\n",
       "    }\n",
       "\n",
       "    .dataframe thead th {\n",
       "        text-align: right;\n",
       "    }\n",
       "</style>\n",
       "<table border=\"1\" class=\"dataframe\">\n",
       "  <thead>\n",
       "    <tr style=\"text-align: right;\">\n",
       "      <th></th>\n",
       "      <th>uniq_id</th>\n",
       "    </tr>\n",
       "    <tr>\n",
       "      <th>combined_category</th>\n",
       "      <th></th>\n",
       "    </tr>\n",
       "  </thead>\n",
       "  <tbody>\n",
       "    <tr>\n",
       "      <th>Living Room Furniture, End &amp; Side Tables</th>\n",
       "      <td>2705</td>\n",
       "    </tr>\n",
       "  </tbody>\n",
       "</table>\n",
       "</div>"
      ],
      "text/plain": [
       "                                          uniq_id\n",
       "combined_category                                \n",
       "Living Room Furniture, End & Side Tables     2705"
      ]
     },
<<<<<<< Updated upstream
     "execution_count": 11,
=======
     "execution_count": 12,
>>>>>>> Stashed changes
     "metadata": {},
     "output_type": "execute_result"
    }
   ],
   "source": [
    "s1[s1.uniq_id == s1.uniq_id.max()]"
   ]
  },
  {
   "cell_type": "code",
<<<<<<< Updated upstream
   "execution_count": 12,
   "id": "00d8b924-70fa-491e-bf6c-0e2641f7f68f",
   "metadata": {},
=======
   "execution_count": 13,
   "id": "61c3f3fc-cce6-41f8-a400-3fcdfd6e5f59",
   "metadata": {
    "tags": []
   },
>>>>>>> Stashed changes
   "outputs": [
    {
     "data": {
      "text/plain": [
       "uniq_id    1103\n",
       "Name: Home Office Furniture, Bookshelves & Bookcases, dtype: int64"
      ]
     },
<<<<<<< Updated upstream
     "execution_count": 12,
=======
     "execution_count": 13,
>>>>>>> Stashed changes
     "metadata": {},
     "output_type": "execute_result"
    }
   ],
   "source": [
    "s1.loc[\"Home Office Furniture, Bookshelves & Bookcases\"]"
   ]
  },
  {
   "cell_type": "code",
<<<<<<< Updated upstream
   "execution_count": 13,
=======
   "execution_count": 14,
>>>>>>> Stashed changes
   "id": "d87c2d5a-78fd-4e5e-adec-e5813145fb04",
   "metadata": {
    "tags": []
   },
   "outputs": [],
   "source": [
    "if not osp.exists(subset_data_path):\n",
    "    d2 = d1[d1[\"combined_category\"] == \"Home Office Furniture, Bookshelves & Bookcases\"]\n",
    "    write_pickle(osp.join(finetune_data_path, \"subset_data.pkl\"), d2)\n",
    "else:\n",
    "    d2 = read_pickle(subset_data_path)"
   ]
  },
  {
   "cell_type": "code",
<<<<<<< Updated upstream
   "execution_count": 14,
=======
   "execution_count": 15,
>>>>>>> Stashed changes
   "id": "36295137-59a1-445d-bf01-693a25f46dd7",
   "metadata": {
    "tags": []
   },
   "outputs": [
    {
     "data": {
      "text/plain": [
       "1103"
      ]
     },
<<<<<<< Updated upstream
     "execution_count": 14,
=======
     "execution_count": 15,
>>>>>>> Stashed changes
     "metadata": {},
     "output_type": "execute_result"
    }
   ],
   "source": [
    "len(d2)"
   ]
  },
  {
   "cell_type": "code",
<<<<<<< Updated upstream
   "execution_count": 15,
=======
   "execution_count": 16,
>>>>>>> Stashed changes
   "id": "e82e9fe0-d119-486d-8e02-526d08151e92",
   "metadata": {
    "tags": []
   },
   "outputs": [
    {
     "data": {
      "text/plain": [
       "Index(['title', 'url', 'brand', 'main_image', 'sku', 'description',\n",
       "       'raw_description', 'gtin13', 'currency', 'price', 'availability',\n",
       "       'availableDeliveryMethod', 'available_branch', 'primary_category',\n",
       "       'sub_category_1', 'sub_category_2', 'sub_category_3', 'images',\n",
       "       'raw_specifications', 'specifications', 'highlights', 'raw_highlights',\n",
       "       'uniq_id', 'scraped_at', 'dimensions', 'weight', 'assembly_details',\n",
       "       'material', 'colors', 'combined_category'],\n",
       "      dtype='object')"
      ]
     },
<<<<<<< Updated upstream
     "execution_count": 15,
=======
     "execution_count": 16,
>>>>>>> Stashed changes
     "metadata": {},
     "output_type": "execute_result"
    }
   ],
   "source": [
    "d2.columns"
   ]
  },
  {
   "cell_type": "code",
<<<<<<< Updated upstream
   "execution_count": 16,
=======
   "execution_count": 17,
>>>>>>> Stashed changes
   "id": "49de018d-edf1-4ccd-9371-2475ea581f4f",
   "metadata": {
    "tags": []
   },
   "outputs": [],
   "source": [
    "d2s = d2[[\"title\", \"uniq_id\"]]"
   ]
  },
  {
   "cell_type": "code",
<<<<<<< Updated upstream
   "execution_count": 17,
=======
   "execution_count": 18,
   "id": "fc60a72e-3498-4028-9e4d-dec274999164",
   "metadata": {
    "tags": []
   },
   "outputs": [
    {
     "data": {
      "text/plain": [
       "1103"
      ]
     },
     "execution_count": 18,
     "metadata": {},
     "output_type": "execute_result"
    }
   ],
   "source": [
    "len(d2s)"
   ]
  },
  {
   "cell_type": "code",
   "execution_count": 19,
>>>>>>> Stashed changes
   "id": "dcd27e55-ea6a-4822-b13b-e017f502f70e",
   "metadata": {
    "tags": []
   },
   "outputs": [],
   "source": [
    "if not osp.exists(train_data_path):\n",
    "    eimage_list = []\n",
    "    etext_list = []\n",
    "    for idx, row in d2s.iterrows():\n",
    "        text = row.title\n",
    "        image = image_path(row.uniq_id)\n",
    "\n",
    "        image = preprocess(Image.open(image)).unsqueeze(0)\n",
    "        text = clip.tokenize(text)\n",
    "\n",
    "        eimage_list.append(image)\n",
    "        etext_list.append(text)\n",
    "\n",
    "    df = pd.DataFrame(data={\n",
    "        \"encoded_image\": eimage_list,\n",
    "        \"encoded_text\": etext_list\n",
    "    })\n",
    "    \n",
    "    write_pickle(train_data_path, df)\n",
    "    \n",
    "else:\n",
    "    df = read_pickle(train_data_path)"
   ]
  },
  {
   "cell_type": "code",
<<<<<<< Updated upstream
   "execution_count": 18,
=======
   "execution_count": 20,
>>>>>>> Stashed changes
   "id": "048b6688-2f2b-4c63-9ec7-d02cf8c7142f",
   "metadata": {
    "tags": []
   },
   "outputs": [],
   "source": [
    "train_data,test_data = train_test_split(df, test_size=0.05)"
   ]
  },
  {
   "cell_type": "code",
<<<<<<< Updated upstream
   "execution_count": 19,
=======
   "execution_count": 21,
>>>>>>> Stashed changes
   "id": "f1bbc22e-fc87-45d3-9013-d570ad4533fb",
   "metadata": {
    "tags": []
   },
   "outputs": [
    {
     "data": {
      "text/plain": [
<<<<<<< Updated upstream
       "827"
      ]
     },
     "execution_count": 19,
=======
       "1047"
      ]
     },
     "execution_count": 21,
>>>>>>> Stashed changes
     "metadata": {},
     "output_type": "execute_result"
    }
   ],
   "source": [
    "len(train_data)"
   ]
  },
  {
   "cell_type": "code",
<<<<<<< Updated upstream
   "execution_count": 20,
=======
   "execution_count": 22,
>>>>>>> Stashed changes
   "id": "1d6f814d-1237-4b93-aef8-f5e6ffcaade6",
   "metadata": {
    "tags": []
   },
   "outputs": [
    {
     "data": {
      "text/plain": [
<<<<<<< Updated upstream
       "276"
      ]
     },
     "execution_count": 20,
=======
       "56"
      ]
     },
     "execution_count": 22,
>>>>>>> Stashed changes
     "metadata": {},
     "output_type": "execute_result"
    }
   ],
   "source": [
    "len(test_data)"
   ]
  },
  {
   "cell_type": "code",
   "execution_count": 23,
   "id": "ac6e2d24-936a-440b-8fe4-96f3f4534dd7",
   "metadata": {
    "tags": []
   },
   "outputs": [],
   "source": [
    "def calc_loss(model, data, criterion, device):\n",
    "    encoded_images = torch.cat(list(data[\"encoded_image\"].values)).to(device)\n",
    "    encoded_texts = torch.cat(list(data[\"encoded_text\"].values)).to(device)\n",
    "\n",
    "    logits_per_image, logits_per_text = model(encoded_images, encoded_texts)\n",
    "\n",
    "    # during training # images == # texts, so calc only once\n",
    "    n_classes = logits_per_image.shape[0]\n",
    "    device = device\n",
    "    labels = torch.arange(n_classes, device=device, dtype=torch.long)\n",
    "    \n",
    "    loss_image = criterion(logits_per_image, labels)\n",
    "    loss_text = criterion(logits_per_text, labels)\n",
    "    curr_loss = (loss_image + loss_text)/2\n",
    "    \n",
    "    return curr_loss\n",
    "\n",
    "\n",
    "def train(model, train_data, criterion, device, optimizer, batch_size=50):\n",
    "    \n",
    "    model.train()\n",
    "    total_loss = 0\n",
    "    total_count = 0\n",
    "    \n",
    "    # print(f\"training...\")\n",
    "\n",
    "    start = 0\n",
    "    end = batch_size\n",
    "    while start < len(train_data):\n",
    "        \n",
    "        sub_data = train_data[start:end]\n",
    "        \n",
    "        optimizer.zero_grad()\n",
    "        curr_loss = calc_loss(model, sub_data, criterion, device)\n",
    "\n",
    "        curr_loss.backward()\n",
    "        optimizer.step()\n",
    "\n",
    "        total_loss += curr_loss.item()\n",
    "        total_count += len(sub_data)\n",
    "        print(f\"{end} current average loss: {total_loss/total_count}\")\n",
    "        \n",
    "        start = end\n",
    "        end += batch_size\n",
    "\n",
    "    print(f\"training average loss: {total_loss/total_count}\")\n",
    "            \n",
    "            \n",
    "def evaluate(model, test_data, criterion, device):\n",
    "    \n",
    "    model.eval()\n",
    "    total_loss = 0\n",
    "    total_count = 0\n",
    "    \n",
    "    with torch.no_grad():\n",
    "        # print(f\"evaluating...\")\n",
    "\n",
    "        curr_loss = calc_loss(model, test_data, criterion, device)\n",
    "\n",
    "        total_loss = curr_loss.item()\n",
    "        total_count = len(test_data)\n",
    "\n",
    "        print(f\"evaluation average loss: {total_loss/total_count}\")\n",
    "    \n",
    "    \n",
    "def run_epoch(\n",
    "    model,\n",
    "    train_data,\n",
    "    test_data,\n",
    "    criterion,\n",
    "    device,\n",
    "    optimizer,\n",
    "    n_epoch,\n",
    "    seed=1234,\n",
    "):\n",
    "    random.seed(seed)\n",
    "    np.random.seed(seed)\n",
    "    torch.manual_seed(seed)\n",
    "    torch.cuda.manual_seed(seed)\n",
    "    torch.backends.cudnn.deterministic = True\n",
    "    \n",
    "    for n in range(n_epoch):\n",
    "        print(f\"training epoch: {n}\")\n",
    "        train(model, train_data, criterion, device, optimizer)\n",
    "        evaluate(model, test_data, criterion, device)"
   ]
  },
  {
   "cell_type": "code",
<<<<<<< Updated upstream
   "execution_count": null,
   "id": "f52ab9e3-18e0-4625-b22e-22604926170c",
   "metadata": {},
   "outputs": [],
=======
   "execution_count": 24,
   "id": "f52ab9e3-18e0-4625-b22e-22604926170c",
   "metadata": {
    "tags": []
   },
   "outputs": [
    {
     "name": "stdout",
     "output_type": "stream",
     "text": [
      "training epoch: 0\n",
      "50 current average loss: 0.03314363718032837\n",
      "100 current average loss: 0.03418949723243713\n",
      "150 current average loss: 0.03257548729578654\n",
      "200 current average loss: 0.0330815327167511\n",
      "250 current average loss: 0.032145537376403806\n",
      "300 current average loss: 0.0316212256749471\n",
      "350 current average loss: 0.031583948816571915\n",
      "400 current average loss: 0.03070270597934723\n",
      "450 current average loss: 0.030409463776482477\n",
      "500 current average loss: 0.02943388080596924\n",
      "550 current average loss: 0.028931166475469415\n",
      "600 current average loss: 0.02881590962409973\n",
      "650 current average loss: 0.02859631061553955\n",
      "700 current average loss: 0.028142686230795723\n",
      "750 current average loss: 0.027961905797322592\n",
      "800 current average loss: 0.02779730036854744\n",
      "850 current average loss: 0.02764514207839966\n",
      "900 current average loss: 0.02741051157315572\n",
      "950 current average loss: 0.027015793825450697\n",
      "1000 current average loss: 0.026870720505714416\n",
      "1050 current average loss: 0.02669738618783304\n",
      "training average loss: 0.02669738618783304\n",
      "evaluation average loss: 0.023222855159214566\n"
     ]
    }
   ],
>>>>>>> Stashed changes
   "source": [
    "criterion = nn.CrossEntropyLoss()\n",
    "\n",
    "learning_rate = 0.00005\n",
    "betas = (0.9, 0.98)\n",
    "eps = 1e-6\n",
    "weight_decay = 0.2\n",
    "optimizer = torch.optim.Adam(\n",
    "    model.parameters(), \n",
    "    lr=learning_rate, \n",
    "    betas=betas, \n",
    "    eps=eps, \n",
    "    weight_decay=weight_decay\n",
    ")\n",
    "n_epoch = 1\n",
    "\n",
    "if osp.exists(model_path):\n",
    "    checkpoint = torch.load(model_path)\n",
    "    model.load_state_dict(checkpoint[\"model_state_dict\"])\n",
    "    optimizer.load_state_dict(checkpoint[\"optimizer_state_dict\"])\n",
    "\n",
    "run_epoch(model, train_data, test_data, criterion, device, optimizer, n_epoch)\n",
    "\n",
    "torch.save({\n",
    "    'model_state_dict': model.state_dict(),\n",
    "    'optimizer_state_dict': optimizer.state_dict(),\n",
    "}, model_path)"
   ]
  },
  {
   "cell_type": "code",
   "execution_count": null,
   "id": "42fe31a2-00c6-4cd3-9207-e41d133255f1",
   "metadata": {},
   "outputs": [],
   "source": []
  }
 ],
 "metadata": {
  "kernelspec": {
   "display_name": "Python 3 (ipykernel)",
   "language": "python",
   "name": "python3"
  },
  "language_info": {
   "codemirror_mode": {
    "name": "ipython",
    "version": 3
   },
   "file_extension": ".py",
   "mimetype": "text/x-python",
   "name": "python",
   "nbconvert_exporter": "python",
   "pygments_lexer": "ipython3",
   "version": "3.9.13"
  }
 },
 "nbformat": 4,
 "nbformat_minor": 5
}
