{
 "cells": [
  {
   "cell_type": "code",
   "execution_count": 1,
   "id": "9be2c837-894e-4db1-9e57-dde850034a44",
   "metadata": {},
   "outputs": [
    {
     "name": "stderr",
     "output_type": "stream",
     "text": [
      "c:\\users\\aphri\\miniconda3\\lib\\site-packages\\torchvision\\io\\image.py:13: UserWarning: Failed to load image Python extension: [WinError 127] The specified procedure could not be found\n",
      "  warn(f\"Failed to load image Python extension: {e}\")\n"
     ]
    }
   ],
   "source": [
    "import torch\n",
    "import torch.nn as nn\n",
    "import clip\n",
    "from PIL import Image\n",
    "import pandas as pd\n",
    "import requests\n",
    "import os.path as osp\n",
    "import pickle\n",
    "import random\n",
    "import numpy as np\n",
    "from pathlib import Path\n",
    "import sys\n",
    "from operator import itemgetter\n",
    "import matplotlib.pyplot as plt\n",
    "import matplotlib.image as mpimg\n",
    "import time\n",
    "import shutil"
   ]
  },
  {
   "cell_type": "code",
   "execution_count": 132,
   "id": "bce7809c-98a0-4bae-a4e6-001173ab401c",
   "metadata": {},
   "outputs": [],
   "source": [
    "dataset_path = \"data/cleaned_target_furniture_dataset.csv\"\n",
    "pickle_path = \"C:/Users/aphri/Documents/t0002/work/data/w210_data/data3_pickle\"\n",
    "image_pickle_path = \"C:/Users/aphri/Documents/t0002/work/data/w210_data/data3_image_pickle\"\n",
    "\n",
    "Path(pickle_path).mkdir(parents=True, exist_ok=True)\n",
    "Path(image_pickle_path).mkdir(parents=True, exist_ok=True)"
   ]
  },
  {
   "cell_type": "code",
   "execution_count": 3,
   "id": "401aad3c-ffe6-40f4-be07-bc9ec672311d",
   "metadata": {},
   "outputs": [],
   "source": [
    "def read_pickle(dir):\n",
    "    with open(dir, 'rb') as handle:\n",
    "        b = pickle.load(handle)\n",
    "    return b\n",
    "\n",
    "\n",
    "def write_pickle(dir, data):\n",
    "    with open(dir, 'wb') as handle:\n",
    "        pickle.dump(data, handle, protocol=pickle.HIGHEST_PROTOCOL)"
   ]
  },
  {
   "cell_type": "code",
   "execution_count": 4,
   "id": "96e48e4f-10e0-4d0f-92ae-aaa47bd944bf",
   "metadata": {},
   "outputs": [],
   "source": [
    "def image_path(uid):\n",
    "    return osp.join(image_storage, f\"{uid}.jpg\")"
   ]
  },
  {
   "cell_type": "code",
   "execution_count": 97,
   "id": "0a943d4f-7166-4b92-b81e-ae7effbb4ac5",
   "metadata": {},
   "outputs": [],
   "source": [
    "def combine_category(x):\n",
    "    res = x[\"sub_category_1\"]\n",
    "    if not pd.isna(x[\"sub_category_2\"]):\n",
    "        res += \", \" + x[\"sub_category_2\"]\n",
    "    if not pd.isna(x[\"sub_category_3\"]):\n",
    "        res += \", \" + x[\"sub_category_3\"]\n",
    "    if not pd.isna(x[\"colors\"]):\n",
    "        res += \", \" + x[\"colors\"]\n",
    "    \n",
    "    return res"
   ]
  },
  {
   "cell_type": "code",
   "execution_count": 112,
   "id": "b531ba2b-1882-4d86-b513-6dd000b2e5b7",
   "metadata": {},
   "outputs": [],
   "source": [
    "def combine_title(x):\n",
    "    res = x[\"title\"]\n",
    "    if not pd.isna(x[\"colors\"]):\n",
    "        res += \", \" + x[\"colors\"]\n",
    "    if not pd.isna(x[\"material\"]):\n",
    "        res += \", \" + x[\"material\"]\n",
    "    \n",
    "    return res"
   ]
  },
  {
   "cell_type": "code",
   "execution_count": 98,
   "id": "a5f9fd02-42e6-4d27-ae40-8777bb45196b",
   "metadata": {},
   "outputs": [],
   "source": [
    "device = \"cuda\" if torch.cuda.is_available() else \"cpu\"\n",
    "model, preprocess = clip.load(\"ViT-B/32\", device=device)"
   ]
  },
  {
   "cell_type": "code",
   "execution_count": 99,
   "id": "5bd526d2-ea7f-4a6f-ba37-b28d04cd1239",
   "metadata": {},
   "outputs": [],
   "source": [
    "d1 = pd.read_csv(dataset_path)"
   ]
  },
  {
   "cell_type": "code",
   "execution_count": 100,
   "id": "740d6466-0c4e-4f10-9ff1-0705fd0e40db",
   "metadata": {},
   "outputs": [
    {
     "data": {
      "text/plain": [
       "40995"
      ]
     },
     "execution_count": 100,
     "metadata": {},
     "output_type": "execute_result"
    }
   ],
   "source": [
    "len(d1)"
   ]
  },
  {
   "cell_type": "code",
   "execution_count": 101,
   "id": "787f95cc-e47e-4c84-89a1-cb1fc6140312",
   "metadata": {},
   "outputs": [
    {
     "data": {
      "text/plain": [
       "Index(['title', 'url', 'brand', 'main_image', 'sku', 'description',\n",
       "       'raw_description', 'gtin13', 'currency', 'price', 'availability',\n",
       "       'availableDeliveryMethod', 'available_branch', 'primary_category',\n",
       "       'sub_category_1', 'sub_category_2', 'sub_category_3', 'images',\n",
       "       'raw_specifications', 'specifications', 'highlights', 'raw_highlights',\n",
       "       'uniq_id', 'scraped_at', 'dimensions', 'weight', 'assembly_details',\n",
       "       'material', 'colors'],\n",
       "      dtype='object')"
      ]
     },
     "execution_count": 101,
     "metadata": {},
     "output_type": "execute_result"
    }
   ],
   "source": [
    "d1.columns"
   ]
  },
  {
   "cell_type": "code",
   "execution_count": 102,
   "id": "362e8fb2-69ca-4ad5-9275-cf9911ab398d",
   "metadata": {},
   "outputs": [],
   "source": [
    "d1 = d1[d1[\"primary_category\"] == \"Furniture\"]"
   ]
  },
  {
   "cell_type": "code",
   "execution_count": 103,
   "id": "6c099239-2704-4688-81eb-f1d2a3512838",
   "metadata": {},
   "outputs": [],
   "source": [
    "d1 = d1[~(d1[\"primary_category\"].isna() & d1[\"sub_category_1\"].isna() & d1[\"sub_category_2\"].isna() & d1[\"sub_category_3\"].isna())]\n",
    "d1 = d1[~(d1[\"sub_category_1\"].isna() & d1[\"sub_category_2\"].isna() & d1[\"sub_category_3\"].isna())]\n",
    "d1 = d1[~d1[\"description\"].isna()]\n",
    "d1 = d1[~d1[\"colors\"].isna()]\n",
    "d1[\"colors\"] = d1[\"colors\"].astype(str)"
   ]
  },
  {
   "cell_type": "code",
   "execution_count": 104,
   "id": "b34afe30-5731-4f2b-a4e3-954f8881ae5a",
   "metadata": {},
   "outputs": [],
   "source": [
    "d1[\"combined_category\"] = d1.apply(combine_category, axis=1)"
   ]
  },
  {
   "cell_type": "code",
   "execution_count": 105,
   "id": "af54539b-3560-4283-b4be-71249b685d2a",
   "metadata": {},
   "outputs": [
    {
     "data": {
      "text/plain": [
       "0                  Home Office Furniture, Desks, white\n",
       "1                   Bedroom Furniture, Dressers, white\n",
       "2                      Bedroom Furniture, Beds, pewter\n",
       "3      Living Room Furniture, Storage Furniture, black\n",
       "6    Living Room Furniture, TV Stands & Entertainme...\n",
       "Name: combined_category, dtype: object"
      ]
     },
     "execution_count": 105,
     "metadata": {},
     "output_type": "execute_result"
    }
   ],
   "source": [
    "d1[\"combined_category\"].head()"
   ]
  },
  {
   "cell_type": "code",
   "execution_count": 106,
   "id": "e15affdf-76ef-4497-a21f-7216116e156e",
   "metadata": {},
   "outputs": [
    {
     "data": {
      "text/plain": [
       "<AxesSubplot: xlabel='combined_category'>"
      ]
     },
     "execution_count": 106,
     "metadata": {},
     "output_type": "execute_result"
    },
    {
     "data": {
      "image/png": "[encoded data removed]",
      "text/plain": [
       "<Figure size 640x480 with 1 Axes>"
      ]
     },
     "metadata": {},
     "output_type": "display_data"
    }
   ],
   "source": [
    "s1 = d1[[\"combined_category\", \"uniq_id\"]].groupby(\"combined_category\").count()\n",
    "s1.plot()"
   ]
  },
  {
   "cell_type": "code",
   "execution_count": 107,
   "id": "c4e24da0-42e0-407b-9525-475fed5fa2ca",
   "metadata": {},
   "outputs": [
    {
     "data": {
      "text/html": [
       "<div>\n",
       "<style scoped>\n",
       "    .dataframe tbody tr th:only-of-type {\n",
       "        vertical-align: middle;\n",
       "    }\n",
       "\n",
       "    .dataframe tbody tr th {\n",
       "        vertical-align: top;\n",
       "    }\n",
       "\n",
       "    .dataframe thead th {\n",
       "        text-align: right;\n",
       "    }\n",
       "</style>\n",
       "<table border=\"1\" class=\"dataframe\">\n",
       "  <thead>\n",
       "    <tr style=\"text-align: right;\">\n",
       "      <th></th>\n",
       "      <th>uniq_id</th>\n",
       "    </tr>\n",
       "    <tr>\n",
       "      <th>combined_category</th>\n",
       "      <th></th>\n",
       "    </tr>\n",
       "  </thead>\n",
       "  <tbody>\n",
       "    <tr>\n",
       "      <th>Home Office Furniture, Office Chairs, black</th>\n",
       "      <td>713</td>\n",
       "    </tr>\n",
       "  </tbody>\n",
       "</table>\n",
       "</div>"
      ],
      "text/plain": [
       "                                             uniq_id\n",
       "combined_category                                   \n",
       "Home Office Furniture, Office Chairs, black      713"
      ]
     },
     "execution_count": 107,
     "metadata": {},
     "output_type": "execute_result"
    }
   ],
   "source": [
    "s1[s1.uniq_id == s1.uniq_id.max()]"
   ]
  },
  {
   "cell_type": "code",
   "execution_count": 108,
   "id": "fdb16331-c482-40b8-87d4-86d6c2c8e67b",
   "metadata": {},
   "outputs": [
    {
     "data": {
      "text/plain": [
       "2790"
      ]
     },
     "execution_count": 108,
     "metadata": {},
     "output_type": "execute_result"
    }
   ],
   "source": [
    "len(np.unique(d1[\"combined_category\"]))"
   ]
  },
  {
   "cell_type": "code",
   "execution_count": 109,
   "id": "509bb9e5-d09d-48bb-880b-351179151c8c",
   "metadata": {},
   "outputs": [
    {
     "data": {
      "text/html": [
       "<div>\n",
       "<style scoped>\n",
       "    .dataframe tbody tr th:only-of-type {\n",
       "        vertical-align: middle;\n",
       "    }\n",
       "\n",
       "    .dataframe tbody tr th {\n",
       "        vertical-align: top;\n",
       "    }\n",
       "\n",
       "    .dataframe thead th {\n",
       "        text-align: right;\n",
       "    }\n",
       "</style>\n",
       "<table border=\"1\" class=\"dataframe\">\n",
       "  <thead>\n",
       "    <tr style=\"text-align: right;\">\n",
       "      <th></th>\n",
       "      <th>uniq_id</th>\n",
       "    </tr>\n",
       "  </thead>\n",
       "  <tbody>\n",
       "    <tr>\n",
       "      <th>count</th>\n",
       "      <td>2790.000000</td>\n",
       "    </tr>\n",
       "    <tr>\n",
       "      <th>mean</th>\n",
       "      <td>10.074552</td>\n",
       "    </tr>\n",
       "    <tr>\n",
       "      <th>std</th>\n",
       "      <td>30.556923</td>\n",
       "    </tr>\n",
       "    <tr>\n",
       "      <th>min</th>\n",
       "      <td>1.000000</td>\n",
       "    </tr>\n",
       "    <tr>\n",
       "      <th>25%</th>\n",
       "      <td>1.000000</td>\n",
       "    </tr>\n",
       "    <tr>\n",
       "      <th>50%</th>\n",
       "      <td>2.000000</td>\n",
       "    </tr>\n",
       "    <tr>\n",
       "      <th>75%</th>\n",
       "      <td>7.000000</td>\n",
       "    </tr>\n",
       "    <tr>\n",
       "      <th>max</th>\n",
       "      <td>713.000000</td>\n",
       "    </tr>\n",
       "  </tbody>\n",
       "</table>\n",
       "</div>"
      ],
      "text/plain": [
       "           uniq_id\n",
       "count  2790.000000\n",
       "mean     10.074552\n",
       "std      30.556923\n",
       "min       1.000000\n",
       "25%       1.000000\n",
       "50%       2.000000\n",
       "75%       7.000000\n",
       "max     713.000000"
      ]
     },
     "execution_count": 109,
     "metadata": {},
     "output_type": "execute_result"
    }
   ],
   "source": [
    "s1.describe()"
   ]
  },
  {
   "cell_type": "code",
   "execution_count": 114,
   "id": "ab51a234-45ad-4c36-9d14-3d33726e7162",
   "metadata": {},
   "outputs": [],
   "source": [
    "d1[\"combined_title\"] = d1.apply(combine_title, axis=1)"
   ]
  },
  {
   "cell_type": "code",
   "execution_count": 116,
   "id": "769b9405-6de0-433e-95c8-447dfeaba854",
   "metadata": {},
   "outputs": [
    {
     "data": {
      "text/plain": [
       "'Salinas Mission Desk & Hutch Antique White - Bush Furniture, white, MDF Composite (Medium-Density Fiberboard) (Frame) '"
      ]
     },
     "execution_count": 116,
     "metadata": {},
     "output_type": "execute_result"
    }
   ],
   "source": [
    "d1[\"combined_title\"].iloc[0]"
   ]
  },
  {
   "cell_type": "code",
   "execution_count": 121,
   "id": "4362cdf6-511f-4493-a13b-6ebc819c9798",
   "metadata": {},
   "outputs": [],
   "source": [
    "d2 = d1[[\"uniq_id\", \"combined_category\", \"combined_title\"]]\n",
    "d2.columns = [\"uniq_id\", \"combined_category\", \"title\"]\n",
    "write_pickle(osp.join(pickle_path, f\"meta_data.pkl\"), d2)"
   ]
  },
  {
   "cell_type": "code",
   "execution_count": 118,
   "id": "1bbe2210-c634-4045-b089-4444a585b5db",
   "metadata": {},
   "outputs": [
    {
     "name": "stdout",
     "output_type": "stream",
     "text": [
      "saving encoded categories\n"
     ]
    }
   ],
   "source": [
    "cat_set = set(d1[\"combined_category\"].values)\n",
    "\n",
    "cat_list = []\n",
    "ecat_list = []\n",
    "\n",
    "for cat in cat_set:\n",
    "    \n",
    "    ecat = clip.tokenize(cat)\n",
    "    cat_list.append(cat)\n",
    "    ecat_list.append(ecat)\n",
    "    \n",
    "ecat_list = torch.cat(ecat_list).to(device)\n",
    "with torch.no_grad():\n",
    "    ecat_list = list(model.encode_text(ecat_list))\n",
    "\n",
    "print(f\"saving encoded categories\")\n",
    "df = pd.DataFrame(data={\n",
    "    \"category\": cat_list,\n",
    "    \"encoded_category\": ecat_list\n",
    "})\n",
    "\n",
    "write_pickle(osp.join(pickle_path, f\"categories.pkl\"), df)"
   ]
  },
  {
   "cell_type": "code",
   "execution_count": 119,
   "id": "e1f0f1f0-509e-4987-a4ac-1c8009c52213",
   "metadata": {},
   "outputs": [
    {
     "name": "stdout",
     "output_type": "stream",
     "text": [
      "0.0%\n",
      "1.79%\n",
      "3.58%\n",
      "5.36%\n",
      "7.15%\n",
      "8.94%\n",
      "10.73%\n",
      "12.52%\n",
      "14.31%\n",
      "16.09%\n",
      "17.88%\n",
      "19.67%\n",
      "21.46%\n",
      "23.25%\n",
      "25.04%\n",
      "26.82%\n",
      "28.61%\n",
      "30.4%\n",
      "32.19%\n",
      "33.98%\n",
      "35.77%\n",
      "37.55%\n",
      "39.34%\n",
      "41.13%\n",
      "42.92%\n",
      "44.71%\n",
      "46.5%\n",
      "48.28%\n",
      "50.07%\n",
      "51.86%\n",
      "53.65%\n",
      "55.44%\n",
      "57.23%\n",
      "59.01%\n",
      "60.8%\n",
      "62.59%\n",
      "64.38%\n",
      "66.17%\n",
      "67.96%\n",
      "69.74%\n",
      "71.53%\n",
      "73.32%\n",
      "75.11%\n",
      "76.9%\n",
      "78.69%\n",
      "80.47%\n",
      "82.26%\n",
      "84.05%\n",
      "85.84%\n",
      "87.63%\n",
      "89.42%\n",
      "91.2%\n",
      "92.99%\n",
      "94.78%\n",
      "96.57%\n",
      "98.36%\n",
      "100.15%\n",
      "saving encoded titles\n"
     ]
    }
   ],
   "source": [
    "title_set = set(d1[\"combined_title\"].values)\n",
    "\n",
    "title_list = []\n",
    "etitle_list = []\n",
    "\n",
    "for title in title_set:\n",
    "    \n",
    "    etitle = clip.tokenize(title)\n",
    "    title_list.append(title)\n",
    "    etitle_list.append(etitle)\n",
    "    \n",
    "res = []\n",
    "chunk = 500\n",
    "idx = 0\n",
    "total_len = len(etitle_list)\n",
    "while True:\n",
    "    print(f\"{round(idx*100/total_len, 2)}%\")\n",
    "    if idx >= len(etitle_list):\n",
    "        break\n",
    "    curr_list = torch.cat(etitle_list[idx:idx+chunk]).to(device)\n",
    "    with torch.no_grad():\n",
    "        curr_list = list(model.encode_text(curr_list))\n",
    "        res += curr_list\n",
    "    idx += chunk\n",
    "\n",
    "print(f\"saving encoded titles\")\n",
    "df = pd.DataFrame(data={\n",
    "    \"title\": title_list,\n",
    "    \"encoded_title\": res\n",
    "})\n",
    "\n",
    "write_pickle(osp.join(pickle_path, f\"titles.pkl\"), df)"
   ]
  },
  {
   "cell_type": "code",
   "execution_count": 134,
   "id": "dbc01efb-00c6-4119-bd1e-5311f5008ee6",
   "metadata": {},
   "outputs": [
    {
     "name": "stdout",
     "output_type": "stream",
     "text": [
      "0%\n",
      "10%\n",
      "20%\n",
      "30%\n",
      "40%\n",
      "50%\n",
      "60%\n",
      "70%\n",
      "80%\n",
      "90%\n",
      "100%\n"
     ]
    }
   ],
   "source": [
    "total_len = len(cat_set)\n",
    "cidx = 0\n",
    "printed_cidx = set()\n",
    "for cat in cat_set:\n",
    "    \n",
    "    pct = int(round(cidx*100/total_len, 0))\n",
    "    if pct % 10 == 0 and pct not in printed_cidx:\n",
    "        print(f\"{pct}%\")\n",
    "        printed_cidx.add(pct)\n",
    "    \n",
    "    cidx += 1\n",
    "    \n",
    "    store_path = osp.join(image_pickle_path, f\"{cat}.pkl\")\n",
    "    if osp.exists(store_path):\n",
    "        continue\n",
    "\n",
    "    uid_list = []\n",
    "    for idx, row in d1[d1[\"combined_category\"] == cat].iterrows():\n",
    "        uid = row.uniq_id\n",
    "        uid_list.append(uid)\n",
    "\n",
    "    image = torch.cat([preprocess(Image.open(image_path(uid))).unsqueeze(0) for uid in uid_list]).to(device)\n",
    "    with torch.no_grad():\n",
    "        eimage_list = list(model.encode_image(image))\n",
    "        \n",
    "    if len(uid_list) > 0:\n",
    "        df = pd.DataFrame(data={\n",
    "            \"uid\": uid_list,\n",
    "            \"encoded_image\": eimage_list\n",
    "        })\n",
    "        write_pickle(store_path, df)"
   ]
  },
  {
   "cell_type": "code",
   "execution_count": null,
   "id": "3ef5f6bc-ec09-4689-9a56-831149856a36",
   "metadata": {},
   "outputs": [],
   "source": []
  }
 ],
 "metadata": {
  "kernelspec": {
   "display_name": "Python 3 (ipykernel)",
   "language": "python",
   "name": "python3"
  },
  "language_info": {
   "codemirror_mode": {
    "name": "ipython",
    "version": 3
   },
   "file_extension": ".py",
   "mimetype": "text/x-python",
   "name": "python",
   "nbconvert_exporter": "python",
   "pygments_lexer": "ipython3",
   "version": "3.9.1"
  }
 },
 "nbformat": 4,
 "nbformat_minor": 5
}
