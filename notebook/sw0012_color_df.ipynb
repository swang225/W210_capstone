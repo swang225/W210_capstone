{
 "cells": [
  {
   "cell_type": "code",
   "execution_count": 13,
   "id": "171b19aa-a80f-46a2-bcb3-7603ece542db",
   "metadata": {},
   "outputs": [],
   "source": [
    "import torch\n",
    "import torch.nn as nn\n",
    "import clip\n",
    "from PIL import Image\n",
    "import pandas as pd\n",
    "import requests\n",
    "import os.path as osp\n",
    "import os\n",
    "import pickle\n",
    "import random\n",
    "import numpy as np\n",
    "from pathlib import Path\n",
    "import sys\n",
    "from rembg import remove\n",
    "from sklearn.cluster import KMeans\n",
    "import matplotlib.pyplot as plt\n",
    "import numpy as np"
   ]
  },
  {
   "cell_type": "code",
   "execution_count": 16,
   "id": "abc0a886-5309-4b1f-9ba0-c025a29d21a1",
   "metadata": {},
   "outputs": [],
   "source": [
    "def remove_bg(img_path, out_path):\n",
    "    input_img = Image.open(img_path)\n",
    "    output_img = remove(input_img)\n",
    "    output_img.save(out_path)"
   ]
  },
  {
   "cell_type": "code",
   "execution_count": 17,
   "id": "44882a72-a018-40be-9abf-721e06f22789",
   "metadata": {},
   "outputs": [],
   "source": [
    "index = [\"color\", \"color_name\", \"hex\", \"R\", \"G\", \"B\"]\n",
    "csv = pd.read_csv('colors.csv', names=index, header=None)\n",
    "\n",
    "def get_color_name(r, g, b):\n",
    "    \n",
    "    R = r * 255\n",
    "    G = g * 255\n",
    "    B = b * 255\n",
    "    minimum = 10000\n",
    "    \n",
    "    for i in range(len(csv)):\n",
    "        d = (\n",
    "            abs(R- int(csv.loc[i,\"R\"])) + \n",
    "            abs(G- int(csv.loc[i,\"G\"])) + \n",
    "            abs(B- int(csv.loc[i,\"B\"]))\n",
    "        )\n",
    "        \n",
    "        if(d<=minimum):\n",
    "            minimum = d\n",
    "            cname = csv.loc[i,\"color_name\"]\n",
    "\n",
    "    return cname\n",
    "\n",
    "def get_color_names(colors):\n",
    "    return set([get_color_name(c[0], c[1], c[2]) for c in colors])"
   ]
  },
  {
   "cell_type": "code",
   "execution_count": 18,
   "id": "98906d06-f770-4f61-9213-720b3718945e",
   "metadata": {},
   "outputs": [],
   "source": [
    "def get_top_colors(img_path, n=3):\n",
    "    image = plt.imread(img_path)\n",
    "    \n",
    "    n_clusters = 9\n",
    "    rows, cols, channels = image.shape  # get the image shape\n",
    "    X = image.reshape(rows * cols, channels)\n",
    "    kmeans = KMeans(n_clusters=n_clusters, random_state=0).fit(X)\n",
    "    labels = kmeans.labels_.reshape(rows, cols)\n",
    "    centers = kmeans.cluster_centers_.clip(0, 1)\n",
    "    \n",
    "    unique_labels, counts = np.unique(labels, return_counts=True)\n",
    "    res = tuple(zip(centers[unique_labels], counts))\n",
    "    \n",
    "    colors = []\n",
    "    counts = []\n",
    "    for r in res:\n",
    "        if r[0][3] < 0.2:\n",
    "            # background no alpha\n",
    "            continue\n",
    "        colors.append(r[0])\n",
    "        counts.append(r[1])\n",
    "    \n",
    "    color_order = np.argsort(counts)[::-1]\n",
    "    colors = np.array(colors)[color_order][:n]\n",
    "    counts = np.array(counts)[color_order][:n]\n",
    "    return colors, counts"
   ]
  },
  {
   "cell_type": "code",
   "execution_count": 23,
   "id": "05077c11-3cb4-40b4-a10e-4f7e3bb4d414",
   "metadata": {},
   "outputs": [],
   "source": [
    "def to_png(image):\n",
    "    file_name = image.split(\".\")[0] + \".png\"\n",
    "    return file_name"
   ]
  },
  {
   "cell_type": "code",
   "execution_count": 14,
   "id": "025538b0-1768-4d6e-b468-0f59f228c37c",
   "metadata": {},
   "outputs": [],
   "source": [
    "image_storage = \"C:/Users/aphri/Documents/t0002/work/data/w210_data/target_images\"\n",
    "Path(image_storage).mkdir(parents=True, exist_ok=True)\n",
    "\n",
    "image_nobg = \"C:/Users/aphri/Documents/t0002/work/data/w210_data/target_images_nobg\"\n",
    "Path(image_nobg).mkdir(parents=True, exist_ok=True)"
   ]
  },
  {
   "cell_type": "code",
   "execution_count": 8,
   "id": "2eaca3cc-7d2b-4c1e-aa74-669ae74b03ba",
   "metadata": {},
   "outputs": [],
   "source": [
    "image_files = os.listdir(image_storage)"
   ]
  },
  {
   "cell_type": "code",
   "execution_count": 15,
   "id": "a3972159-2493-4cba-b860-67fad91d6fc9",
   "metadata": {},
   "outputs": [],
   "source": [
    "total_count = len(image_files)\n",
    "print_increment = total_count/10"
   ]
  },
  {
   "cell_type": "code",
   "execution_count": null,
   "id": "8a8a7286-ad5a-49dc-bf55-20e818f90aac",
   "metadata": {},
   "outputs": [
    {
     "name": "stdout",
     "output_type": "stream",
     "text": [
      "0.0%\n",
      "10.0%\n"
     ]
    }
   ],
   "source": [
    "count = 0\n",
    "print_count = 0\n",
    "for image in image_files:\n",
    "    image_path = osp.join(image_storage, image)\n",
    "    out_path = osp.join(image_nobg, to_png(image))\n",
    "    if not osp.exists(out_path):\n",
    "        remove_bg(image_path, out_path)\n",
    "    \n",
    "    count += 1\n",
    "    if count >= print_count:\n",
    "        print(f\"{round(print_count*100/total_count, 2)}%\")\n",
    "        print_count += print_increment\n",
    "        print_count = min(print_count, total_count)"
   ]
  },
  {
   "cell_type": "code",
   "execution_count": null,
   "id": "b8ac2581-5d06-4d93-8441-9f05c8aa8ca8",
   "metadata": {},
   "outputs": [],
   "source": []
  }
 ],
 "metadata": {
  "kernelspec": {
   "display_name": "Python 3 (ipykernel)",
   "language": "python",
   "name": "python3"
  },
  "language_info": {
   "codemirror_mode": {
    "name": "ipython",
    "version": 3
   },
   "file_extension": ".py",
   "mimetype": "text/x-python",
   "name": "python",
   "nbconvert_exporter": "python",
   "pygments_lexer": "ipython3",
   "version": "3.9.1"
  }
 },
 "nbformat": 4,
 "nbformat_minor": 5
}
