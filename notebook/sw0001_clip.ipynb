{
 "cells": [
  {
   "cell_type": "code",
   "execution_count": 1,
   "id": "8bd9bf2e-8429-4c57-b451-3cbde4e4727e",
   "metadata": {},
   "outputs": [],
   "source": [
    "import torch\n",
    "import clip\n",
    "from PIL import Image"
   ]
  },
  {
   "cell_type": "code",
   "execution_count": 2,
   "id": "da047251-939b-4349-a499-2b0417dc778b",
   "metadata": {},
   "outputs": [],
   "source": [
    "device = \"cuda\" if torch.cuda.is_available() else \"cpu\"\n",
    "model, preprocess = clip.load(\"ViT-B/32\", device=device)"
   ]
  },
  {
   "cell_type": "code",
   "execution_count": 3,
   "id": "03467cab-9687-4200-9aeb-310b01f74335",
   "metadata": {},
   "outputs": [
    {
     "data": {
      "text/plain": [
       "['RN50',\n",
       " 'RN101',\n",
       " 'RN50x4',\n",
       " 'RN50x16',\n",
       " 'RN50x64',\n",
       " 'ViT-B/32',\n",
       " 'ViT-B/16',\n",
       " 'ViT-L/14',\n",
       " 'ViT-L/14@336px']"
      ]
     },
     "execution_count": 3,
     "metadata": {},
     "output_type": "execute_result"
    }
   ],
   "source": [
    "clip.available_models()"
   ]
  },
  {
   "cell_type": "code",
   "execution_count": 16,
   "id": "29fcbd26-8224-4403-b382-9b6546299cfd",
   "metadata": {},
   "outputs": [],
   "source": [
    "def find_text_match(image, text_list):\n",
    "    # given an image and a list of possible text matchs, find the best match\n",
    "    image = preprocess(Image.open(image)).unsqueeze(0).to(device)\n",
    "    text = clip.tokenize(text_list).to(device)\n",
    "\n",
    "    with torch.no_grad():\n",
    "#         image_features = model.encode_image(image)\n",
    "#         text_features = model.encode_text(text)\n",
    "\n",
    "        logits_per_image, logits_per_text = model(image, text)\n",
    "        probs = logits_per_image.softmax(dim=-1).cpu().numpy()\n",
    "\n",
    "    res = dict(zip(text_list, probs[0] * 100))\n",
    "    return res\n",
    "\n",
    "\n",
    "def find_image_match(text, image_list):\n",
    "    # give a text and a list of possible image matchs, find the best match\n",
    "    images = [preprocess(Image.open(img)).unsqueeze(0) for img in image_list]\n",
    "    images = torch.cat(images).to(device)\n",
    "    \n",
    "    text = clip.tokenize([text]).to(device)\n",
    "    \n",
    "    with torch.no_grad():\n",
    "#         image_features = model.encode_image(images)\n",
    "#         text_features = model.encode_text(text)\n",
    "\n",
    "        logits_per_image, logits_per_text = model(images, text)\n",
    "        probs = logits_per_text.softmax(dim=-1).cpu().numpy()\n",
    "\n",
    "    res = dict(zip(image_list, probs[0] * 100))\n",
    "    return res\n",
    "\n",
    "\n",
    "def find_image_image_match(image, image_list):\n",
    "    # give a text and a list of possible image matchs, find the best match\n",
    "    images = [preprocess(Image.open(img)).unsqueeze(0) for img in image_list]\n",
    "    images = torch.cat(images).to(device)\n",
    "    \n",
    "    image = torch.cat([preprocess(Image.open(image)).unsqueeze(0)]).to(device)\n",
    "    \n",
    "    with torch.no_grad():\n",
    "        image_features = model.encode_image(images)\n",
    "        image1_features = model.encode_image(image)\n",
    "        \n",
    "        image_features /= image_features.norm(dim=-1, keepdim=True)\n",
    "        image1_features /= image1_features.norm(dim=-1, keepdim=True)\n",
    "        similarity =  100 * image_features @ image1_features.T\n",
    "\n",
    "    res = dict(zip(image_list, similarity.reshape(-1).tolist()))\n",
    "    return res"
   ]
  },
  {
   "cell_type": "code",
   "execution_count": 5,
   "id": "fd30d93f-2f05-466f-818b-b04b958b1655",
   "metadata": {},
   "outputs": [
    {
     "data": {
      "image/png": "[encoded data removed]",
      "text/plain": [
       "<PIL.JpegImagePlugin.JpegImageFile image mode=RGB size=60x80 at 0x1B4D151F280>"
      ]
     },
     "execution_count": 5,
     "metadata": {},
     "output_type": "execute_result"
    }
   ],
   "source": [
    "Image.open(\"a_bag.jpg\")"
   ]
  },
  {
   "cell_type": "code",
   "execution_count": 6,
   "id": "a8b5a7c9-d914-4e77-93df-64c75ac3169d",
   "metadata": {},
   "outputs": [
    {
     "data": {
      "image/png": "[encoded data removed]",
      "text/plain": [
       "<PIL.JpegImagePlugin.JpegImageFile image mode=RGB size=60x80 at 0x1B4DA6D3370>"
      ]
     },
     "execution_count": 6,
     "metadata": {},
     "output_type": "execute_result"
    }
   ],
   "source": [
    "Image.open(\"a_hat.jpg\")"
   ]
  },
  {
   "cell_type": "code",
   "execution_count": 7,
   "id": "d12968a7-d05a-4ce5-a713-e97c9545fac4",
   "metadata": {},
   "outputs": [
    {
     "data": {
      "image/png": "[encoded data removed]",
      "text/plain": [
       "<PIL.JpegImagePlugin.JpegImageFile image mode=RGB size=60x80 at 0x1B4D1518880>"
      ]
     },
     "execution_count": 7,
     "metadata": {},
     "output_type": "execute_result"
    }
   ],
   "source": [
    "Image.open(\"a_t_shirt.jpg\")"
   ]
  },
  {
   "cell_type": "code",
   "execution_count": 17,
   "id": "169d5de2-c0fe-42f8-a415-501819ac833b",
   "metadata": {},
   "outputs": [
    {
     "data": {
      "text/plain": [
       "{'a bag': 99.96662, 'a hat': 0.011180727, 'a cat': 0.02220167}"
      ]
     },
     "execution_count": 17,
     "metadata": {},
     "output_type": "execute_result"
    }
   ],
   "source": [
    "find_text_match(image=\"a_bag.jpg\", text_list=[\"a bag\", \"a hat\", \"a cat\"])"
   ]
  },
  {
   "cell_type": "code",
   "execution_count": 9,
   "id": "702bd17d-bb2e-4026-98e1-7ec5d2b9634a",
   "metadata": {},
   "outputs": [
    {
     "data": {
      "text/plain": [
       "{'a green bag': 17.222015,\n",
       " 'a deep green bag': 82.64399,\n",
       " 'a bag': 0.098632365,\n",
       " 'a blue bag': 0.03536507}"
      ]
     },
     "execution_count": 9,
     "metadata": {},
     "output_type": "execute_result"
    }
   ],
   "source": [
    "find_text_match(image=\"a_bag.jpg\", text_list=[\"a green bag\", \"a deep green bag\", \"a bag\", \"a blue bag\"])"
   ]
  },
  {
   "cell_type": "code",
   "execution_count": 10,
   "id": "2d60e79a-b750-4177-b187-ed28bf315d18",
   "metadata": {},
   "outputs": [
    {
     "data": {
      "text/plain": [
       "{'a_bag.jpg': 0.022959646, 'a_hat.jpg': 99.97704}"
      ]
     },
     "execution_count": 10,
     "metadata": {},
     "output_type": "execute_result"
    }
   ],
   "source": [
    "find_image_match(text=\"a hat\", image_list=[\"a_bag.jpg\", \"a_hat.jpg\"])"
   ]
  },
  {
   "cell_type": "code",
   "execution_count": 11,
   "id": "344cad23-58f8-4001-89c4-c60a6434d8ce",
   "metadata": {},
   "outputs": [
    {
     "data": {
      "text/plain": [
       "{'a_bag.jpg': 0.016090684, 'a_hat.jpg': 0.5504194, 'a_t_shirt.jpg': 99.433495}"
      ]
     },
     "execution_count": 11,
     "metadata": {},
     "output_type": "execute_result"
    }
   ],
   "source": [
    "find_image_match(text=\"a shirt\", image_list=[\"a_bag.jpg\", \"a_hat.jpg\", \"a_t_shirt.jpg\"])"
   ]
  },
  {
   "cell_type": "code",
   "execution_count": 12,
   "id": "1eead497-3a56-4db4-9012-87901e4649eb",
   "metadata": {},
   "outputs": [
    {
     "data": {
      "text/plain": [
       "{'a_bag.jpg': 99.99999237060547,\n",
       " 'a_hat.jpg': 69.71790313720703,\n",
       " 'a_t_shirt.jpg': 68.84834289550781}"
      ]
     },
     "execution_count": 12,
     "metadata": {},
     "output_type": "execute_result"
    }
   ],
   "source": [
    "find_image_image_match(image=\"a_bag.jpg\", image_list=[\"a_bag.jpg\", \"a_hat.jpg\", \"a_t_shirt.jpg\"])"
   ]
  },
  {
   "cell_type": "code",
   "execution_count": null,
   "id": "c685b569-8fce-45ae-a2c1-977b9855cda7",
   "metadata": {},
   "outputs": [],
   "source": []
  }
 ],
 "metadata": {
  "kernelspec": {
   "display_name": "Python 3",
   "language": "python",
   "name": "python3"
  },
  "language_info": {
   "codemirror_mode": {
    "name": "ipython",
    "version": 3
   },
   "file_extension": ".py",
   "mimetype": "text/x-python",
   "name": "python",
   "nbconvert_exporter": "python",
   "pygments_lexer": "ipython3",
   "version": "3.9.5"
  }
 },
 "nbformat": 4,
 "nbformat_minor": 5
}
