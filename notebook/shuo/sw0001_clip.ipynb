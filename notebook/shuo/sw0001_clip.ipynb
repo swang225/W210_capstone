{
 "cells": [
  {
   "cell_type": "code",
   "execution_count": 35,
   "id": "8bd9bf2e-8429-4c57-b451-3cbde4e4727e",
   "metadata": {},
   "outputs": [],
   "source": [
    "import torch\n",
    "import clip\n",
    "from PIL import Image"
   ]
  },
  {
   "cell_type": "code",
   "execution_count": 36,
   "id": "03467cab-9687-4200-9aeb-310b01f74335",
   "metadata": {},
   "outputs": [
    {
     "data": {
      "text/plain": [
       "['RN50',\n",
       " 'RN101',\n",
       " 'RN50x4',\n",
       " 'RN50x16',\n",
       " 'RN50x64',\n",
       " 'ViT-B/32',\n",
       " 'ViT-B/16',\n",
       " 'ViT-L/14',\n",
       " 'ViT-L/14@336px']"
      ]
     },
     "execution_count": 36,
     "metadata": {},
     "output_type": "execute_result"
    }
   ],
   "source": [
    "clip.available_models()"
   ]
  },
  {
   "cell_type": "code",
   "execution_count": 41,
   "id": "29fcbd26-8224-4403-b382-9b6546299cfd",
   "metadata": {},
   "outputs": [],
   "source": [
    "def find_text_match(image, text_list):\n",
    "    # given an image and a list of possible text matchs, find the best match\n",
    "    image = preprocess(Image.open(image)).unsqueeze(0).to(device)\n",
    "    text = clip.tokenize(text_list).to(device)\n",
    "\n",
    "    with torch.no_grad():\n",
    "        image_features = model.encode_image(image)\n",
    "        text_features = model.encode_text(text)\n",
    "\n",
    "        logits_per_image, logits_per_text = model(image, text)\n",
    "        probs = logits_per_image.softmax(dim=-1).cpu().numpy()\n",
    "\n",
    "    res = dict(zip(text_list, probs[0] * 100))\n",
    "    return res\n",
    "    \n",
    "# TODO\n",
    "def find_image_match(text, image_list):\n",
    "    # give a text and a list of possible image matchs, find the best match\n",
    "    pass"
   ]
  },
  {
   "cell_type": "code",
   "execution_count": 42,
   "id": "fd30d93f-2f05-466f-818b-b04b958b1655",
   "metadata": {},
   "outputs": [
    {
     "data": {
      "image/png": "[encoded data removed]",
      "text/plain": [
       "<PIL.JpegImagePlugin.JpegImageFile image mode=RGB size=60x80 at 0x228802852B0>"
      ]
     },
     "execution_count": 42,
     "metadata": {},
     "output_type": "execute_result"
    }
   ],
   "source": [
    "Image.open(\"a_bag.jpg\")"
   ]
  },
  {
   "cell_type": "code",
   "execution_count": 43,
   "id": "169d5de2-c0fe-42f8-a415-501819ac833b",
   "metadata": {},
   "outputs": [
    {
     "data": {
      "text/plain": [
       "{'a bag': 99.96662, 'a hat': 0.011180727, 'a cat': 0.02220167}"
      ]
     },
     "execution_count": 43,
     "metadata": {},
     "output_type": "execute_result"
    }
   ],
   "source": [
    "find_text_match(image=\"a_bag.jpg\", text_list=[\"a bag\", \"a hat\", \"a cat\"])"
   ]
  },
  {
   "cell_type": "code",
   "execution_count": 44,
   "id": "702bd17d-bb2e-4026-98e1-7ec5d2b9634a",
   "metadata": {},
   "outputs": [
    {
     "data": {
      "text/plain": [
       "{'a green bag': 17.222015,\n",
       " 'a deep green bag': 82.64399,\n",
       " 'a bag': 0.098632365,\n",
       " 'a blue bag': 0.03536507}"
      ]
     },
     "execution_count": 44,
     "metadata": {},
     "output_type": "execute_result"
    }
   ],
   "source": [
    "find_text_match(image=\"a_bag.jpg\", text_list=[\"a green bag\", \"a deep green bag\", \"a bag\", \"a blue bag\"])"
   ]
  },
  {
   "cell_type": "code",
   "execution_count": null,
   "id": "6bbd6231-2535-4e72-878a-3aff6d2b29f0",
   "metadata": {},
   "outputs": [],
   "source": []
  }
 ],
 "metadata": {
  "kernelspec": {
   "display_name": "Python 3",
   "language": "python",
   "name": "python3"
  },
  "language_info": {
   "codemirror_mode": {
    "name": "ipython",
    "version": 3
   },
   "file_extension": ".py",
   "mimetype": "text/x-python",
   "name": "python",
   "nbconvert_exporter": "python",
   "pygments_lexer": "ipython3",
   "version": "3.9.5"
  }
 },
 "nbformat": 4,
 "nbformat_minor": 5
}
