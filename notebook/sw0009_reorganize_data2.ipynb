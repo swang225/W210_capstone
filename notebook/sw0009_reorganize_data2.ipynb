{
 "cells": [
  {
   "cell_type": "code",
   "execution_count": 1,
   "id": "7a4d666b-a073-4ce3-ac22-2bc95d8deb60",
   "metadata": {},
   "outputs": [
    {
     "name": "stderr",
     "output_type": "stream",
     "text": [
      "c:\\users\\aphri\\miniconda3\\lib\\site-packages\\torchvision\\io\\image.py:13: UserWarning: Failed to load image Python extension: [WinError 127] The specified procedure could not be found\n",
      "  warn(f\"Failed to load image Python extension: {e}\")\n"
     ]
    }
   ],
   "source": [
    "import torch\n",
    "import torch.nn as nn\n",
    "import clip\n",
    "from PIL import Image\n",
    "import pandas as pd\n",
    "import requests\n",
    "import os.path as osp\n",
    "import pickle\n",
    "import random\n",
    "import numpy as np\n",
    "from pathlib import Path\n",
    "import sys\n",
    "from operator import itemgetter\n",
    "import matplotlib.pyplot as plt\n",
    "import matplotlib.image as mpimg\n",
    "import time\n",
    "import shutil"
   ]
  },
  {
   "cell_type": "code",
   "execution_count": 2,
   "id": "346d19ed-6ba6-4350-b6a5-3cf83597a633",
   "metadata": {},
   "outputs": [],
   "source": [
    "dataset_path = \"C:/Users/aphri/Documents/t0002/work/data/w210_data/target_store_furniture_datasets.csv\"\n",
    "image_storage = \"C:/Users/aphri/Documents/t0002/work/data/w210_data/target_images\"\n",
    "pickle_path = \"C:/Users/aphri/Documents/t0002/work/data/w210_data/category_pickle\"\n",
    "model_path = \"C:/Users/aphri/Documents/t0002/work/data/w210_data/model\"\n",
    "\n",
    "Path(image_storage).mkdir(parents=True, exist_ok=True)\n",
    "Path(pickle_path).mkdir(parents=True, exist_ok=True)\n",
    "Path(model_path).mkdir(parents=True, exist_ok=True)"
   ]
  },
  {
   "cell_type": "code",
   "execution_count": 3,
   "id": "28f7743f-d965-4bbd-9a08-52a7c891a146",
   "metadata": {},
   "outputs": [],
   "source": [
    "def read_pickle(dir):\n",
    "    with open(dir, 'rb') as handle:\n",
    "        b = pickle.load(handle)\n",
    "    return b\n",
    "\n",
    "\n",
    "def write_pickle(dir, data):\n",
    "    with open(dir, 'wb') as handle:\n",
    "        pickle.dump(data, handle, protocol=pickle.HIGHEST_PROTOCOL)"
   ]
  },
  {
   "cell_type": "code",
   "execution_count": 4,
   "id": "75f49161-5af0-4cc2-bfd5-fa98a23810e9",
   "metadata": {},
   "outputs": [],
   "source": [
    "def save_processed_data(name, uid_list, des_list, eimage_list, edes_list):\n",
    "    df = pd.DataFrame(data={\n",
    "        \"uid\": uid_list,\n",
    "        \"description\": des_list,\n",
    "        \"encoded_image\": eimage_list,\n",
    "        \"encoded_description\": edes_list\n",
    "    })\n",
    "    \n",
    "    write_pickle(name, df)"
   ]
  },
  {
   "cell_type": "code",
   "execution_count": 5,
   "id": "680be82d-526a-4c46-a89a-165d5b8f4fa4",
   "metadata": {},
   "outputs": [],
   "source": [
    "def image_path(uid):\n",
    "    return osp.join(image_storage, f\"{uid}.jpg\")"
   ]
  },
  {
   "cell_type": "code",
   "execution_count": 6,
   "id": "d8c5c59b-f145-4c79-b2b7-69c9fbb58e76",
   "metadata": {},
   "outputs": [],
   "source": [
    "device = \"cuda\" if torch.cuda.is_available() else \"cpu\"\n",
    "model, preprocess = clip.load(\"ViT-B/32\", device=device)"
   ]
  },
  {
   "cell_type": "code",
   "execution_count": 7,
   "id": "5724ac18-340b-4f05-90d3-a982a5283343",
   "metadata": {},
   "outputs": [],
   "source": [
    "d1 = pd.read_csv(dataset_path)"
   ]
  },
  {
   "cell_type": "code",
   "execution_count": 8,
   "id": "7f9a6027-bedb-44cb-9b27-72b2fb2576f3",
   "metadata": {},
   "outputs": [
    {
     "data": {
      "text/plain": [
       "42215"
      ]
     },
     "execution_count": 8,
     "metadata": {},
     "output_type": "execute_result"
    }
   ],
   "source": [
    "len(d1)"
   ]
  },
  {
   "cell_type": "code",
   "execution_count": 9,
   "id": "94651910-81f4-4ee8-a632-f925d37064b3",
   "metadata": {},
   "outputs": [
    {
     "data": {
      "text/plain": [
       "Index(['title', 'url', 'brand', 'main_image', 'sku', 'description',\n",
       "       'raw_description', 'gtin13', 'currency', 'price', 'availability',\n",
       "       'availableDeliveryMethod', 'available_branch', 'primary_category',\n",
       "       'sub_category_1', 'sub_category_2', 'sub_category_3', 'images',\n",
       "       'raw_specifications', 'specifications', 'highlights', 'raw_highlights',\n",
       "       'uniq_id', 'scraped_at'],\n",
       "      dtype='object')"
      ]
     },
     "execution_count": 9,
     "metadata": {},
     "output_type": "execute_result"
    }
   ],
   "source": [
    "d1.columns"
   ]
  },
  {
   "cell_type": "code",
   "execution_count": 10,
   "id": "f6b5fd1b-04bc-461d-b765-5c487a98732e",
   "metadata": {},
   "outputs": [],
   "source": [
    "d1 = d1[d1[\"primary_category\"] == \"Furniture\"]"
   ]
  },
  {
   "cell_type": "code",
   "execution_count": 11,
   "id": "490a0450-835d-466c-8a5c-b7ce4dba7646",
   "metadata": {},
   "outputs": [],
   "source": [
    "d1 = d1[~(d1[\"primary_category\"].isna() & d1[\"sub_category_1\"].isna() & d1[\"sub_category_2\"].isna() & d1[\"sub_category_3\"].isna())]\n",
    "d1 = d1[~(d1[\"sub_category_1\"].isna() & d1[\"sub_category_2\"].isna() & d1[\"sub_category_3\"].isna())]\n",
    "d1 = d1[~d1[\"description\"].isna()]"
   ]
  },
  {
   "cell_type": "code",
   "execution_count": 12,
   "id": "42838bf1-2db4-41fd-9201-8ea72496540b",
   "metadata": {},
   "outputs": [],
   "source": [
    "def combine_category(x):\n",
    "    res = x[\"sub_category_1\"]\n",
    "    if not pd.isna(x[\"sub_category_2\"]):\n",
    "        res += \", \" + x[\"sub_category_2\"]\n",
    "    if not pd.isna(x[\"sub_category_3\"]):\n",
    "        res += \", \" + x[\"sub_category_3\"]\n",
    "    \n",
    "    return res"
   ]
  },
  {
   "cell_type": "code",
   "execution_count": 13,
   "id": "775b760a-2514-4730-b551-009033721ea1",
   "metadata": {},
   "outputs": [],
   "source": [
    "d1[\"combined_category\"] = d1.apply(combine_category, axis=1)"
   ]
  },
  {
   "cell_type": "code",
   "execution_count": 14,
   "id": "7ff5b5a1-c7e7-4146-9fd5-9acb141cd624",
   "metadata": {},
   "outputs": [
    {
     "data": {
      "text/plain": [
       "34411"
      ]
     },
     "execution_count": 14,
     "metadata": {},
     "output_type": "execute_result"
    }
   ],
   "source": [
    "len(d1)"
   ]
  },
  {
   "cell_type": "code",
   "execution_count": 15,
   "id": "32fd6c37-112e-4ab7-a53f-0dbcc2e62c88",
   "metadata": {},
   "outputs": [
    {
     "data": {
      "text/plain": [
       "3320"
      ]
     },
     "execution_count": 15,
     "metadata": {},
     "output_type": "execute_result"
    }
   ],
   "source": [
    "d1.groupby(\"combined_category\")[\"uniq_id\"].count().max()"
   ]
  },
  {
   "cell_type": "code",
   "execution_count": 16,
   "id": "fda6bd39-8fee-4f4e-9d8f-faddd3a853f4",
   "metadata": {},
   "outputs": [
    {
     "data": {
      "text/plain": [
       "array(['Bathroom Furniture', 'Bedroom Furniture, Armoires & Wardrobes',\n",
       "       'Bedroom Furniture, Bed Frames',\n",
       "       'Bedroom Furniture, Bedroom Sets & Collections',\n",
       "       'Bedroom Furniture, Beds', 'Bedroom Furniture, Dressers',\n",
       "       'Bedroom Furniture, Headboards',\n",
       "       'Bedroom Furniture, Jewelry Armoires',\n",
       "       'Bedroom Furniture, Nightstands', 'Bedroom Furniture, Vanities'],\n",
       "      dtype=object)"
      ]
     },
     "execution_count": 16,
     "metadata": {},
     "output_type": "execute_result"
    }
   ],
   "source": [
    "np.unique(d1[\"combined_category\"])[:10]"
   ]
  },
  {
   "cell_type": "code",
   "execution_count": 18,
   "id": "653a8ce0-e955-4d6e-87aa-3c5d8918b3c6",
   "metadata": {},
   "outputs": [
    {
     "data": {
      "text/plain": [
       "0     The Bush Furniture Salinas Small Computer Desk...\n",
       "1     You can have extra storage space for your bedr...\n",
       "2     Clean lines and lustrous nailheads give this u...\n",
       "3     Enhance the look of your room with the Broadwa...\n",
       "6     The Lexington 70” TV Stand features a cantilev...\n",
       "8     Include this recliner in your home for full co...\n",
       "9     The Fabian kitchen cabinet has the practical a...\n",
       "10    Make a splash with this pair of extraordinary,...\n",
       "11    Refresh your living room with this light gray ...\n",
       "12    It began in 1893 when Edsko Hekman ventured fr...\n",
       "Name: description, dtype: object"
      ]
     },
     "execution_count": 18,
     "metadata": {},
     "output_type": "execute_result"
    }
   ],
   "source": [
    "d1[\"description\"][:10]"
   ]
  },
  {
   "cell_type": "code",
   "execution_count": 19,
   "id": "607c5351-c7cb-4ab4-ae64-2da550c05635",
   "metadata": {},
   "outputs": [
    {
     "data": {
      "text/plain": [
       "\"The Bush Furniture Salinas Small Computer Desk with Hutch takes timeless Mission styling and adds plenty of modern touches to help you complete your daily tasks. Technology-ready features include an integrated pullout keyboard tray or laptop shelf and a work surface with built-in wire management to keep cords and cables in order. The Hutch has plenty of open storage space for work-in-progress, books, decorations and more while the 48W Desk features a vertical storage cabinet along with a box drawer to organize your office supplies and writing utensils. An ideal Computer Desk for small spaces, the compact design boasts a sturdy construction with clean lines, tapered legs and attractive wood detailing. The durable desktop supports up to 200 pounds and offers ample space to complete projects and assignments, pay bills, or just surf the web. Find the perfect look for any work or living space with your choice of seven attractive finishes complemented by Tumbled Pewter hardware. This home office desk set is backed by the Bush Furniture 1 Year Manufacturer's Warranty. Complete your personal workspace with an array of coordinating items from the Salinas Collection, including Office Chairs, Bookcases, File Cabinets, Desktop Organizers and more.\""
      ]
     },
     "execution_count": 19,
     "metadata": {},
     "output_type": "execute_result"
    }
   ],
   "source": [
    "d1[\"description\"][0]"
   ]
  },
  {
   "cell_type": "code",
   "execution_count": 20,
   "id": "069cfe72-0401-432d-acc9-60372446df4c",
   "metadata": {},
   "outputs": [
    {
     "data": {
      "text/plain": [
       "0"
      ]
     },
     "execution_count": 20,
     "metadata": {},
     "output_type": "execute_result"
    }
   ],
   "source": [
    "len(d1[d1[\"description\"].isna()])"
   ]
  },
  {
   "cell_type": "code",
   "execution_count": 43,
   "id": "f916d1a6-4e67-4a25-9f63-7ce0fed19f02",
   "metadata": {},
   "outputs": [],
   "source": [
    "d1[\"short\"] = d1[\"description\"].apply(lambda x: \" \".join(x.split()[:20]))"
   ]
  },
  {
   "cell_type": "code",
   "execution_count": 44,
   "id": "961ae72b-30e9-43e8-823a-c5c4fd64f546",
   "metadata": {},
   "outputs": [
    {
     "data": {
      "text/plain": [
       "array(['The Bush Furniture Salinas Small Computer Desk with Hutch takes timeless Mission styling and adds plenty of modern touches to',\n",
       "       'You can have extra storage space for your bedroom decor while adding a touch of contemporary flair with help from',\n",
       "       'Clean lines and lustrous nailheads give this upholstered bed an air of sophistication. Available in a mix of bold color',\n",
       "       'Enhance the look of your room with the Broadway Mirrored Side Cabinet by Lifestorey. This cabinet offers a glamorous feel',\n",
       "       'The Lexington 70” TV Stand features a cantilevered shelf design that combines both contemporary and rustic looks together. The rustic',\n",
       "       'Include this recliner in your home for full comfort to enjoy after a long day at work. This plush cushioned',\n",
       "       \"The Fabian kitchen cabinet has the practical and organizational elements you've been loofor without sacrificing style. The modern and contemporary-inspired\",\n",
       "       'Make a splash with this pair of extraordinary, colorful nature photographs. The front features a shot of the ocean shimmering',\n",
       "       'Refresh your living room with this light gray home theater manual reclining loveseat. The comfy split seatback and pillow-top armrests',\n",
       "       'It began in 1893 when Edsko Hekman ventured from the Netherlands to Grand Rapids, Michigan hoping to find his life’s'],\n",
       "      dtype=object)"
      ]
     },
     "execution_count": 44,
     "metadata": {},
     "output_type": "execute_result"
    }
   ],
   "source": [
    "d1[\"short\"].head(10).values"
   ]
  },
  {
   "cell_type": "code",
   "execution_count": 45,
   "id": "5dffd759-7e5f-4ea8-9571-7feb11e3e2f2",
   "metadata": {},
   "outputs": [],
   "source": [
    "d2 = d1[[\"uniq_id\", \"combined_category\", \"title\", \"short\"]]\n",
    "write_pickle(osp.join(pickle_path, f\"meta_data.pkl\"), d2)"
   ]
  },
  {
   "cell_type": "code",
   "execution_count": 18,
   "id": "1bb26579-9a43-47b9-8688-e81f01401a4f",
   "metadata": {},
   "outputs": [],
   "source": [
    "cat_set = set(d1[\"combined_category\"].values)"
   ]
  },
  {
   "cell_type": "code",
   "execution_count": 60,
   "id": "5ae7fa18-eb71-46c7-a56d-cc84375a532c",
   "metadata": {},
   "outputs": [
    {
     "name": "stdout",
     "output_type": "stream",
     "text": [
      "saving encoded categories\n"
     ]
    }
   ],
   "source": [
    "cat_list = []\n",
    "ecat_list = []\n",
    "\n",
    "for cat in cat_set:\n",
    "    \n",
    "    ecat = clip.tokenize(cat)\n",
    "    cat_list.append(cat)\n",
    "    ecat_list.append(ecat)\n",
    "    \n",
    "ecat_list = torch.cat(ecat_list).to(device)\n",
    "with torch.no_grad():\n",
    "    ecat_list = list(model.encode_text(ecat_list))\n",
    "\n",
    "print(f\"saving encoded categories\")\n",
    "df = pd.DataFrame(data={\n",
    "    \"category\": cat_list,\n",
    "    \"encoded_category\": ecat_list\n",
    "})\n",
    "\n",
    "write_pickle(osp.join(pickle_path, f\"categories.pkl\"), df)"
   ]
  },
  {
   "cell_type": "code",
   "execution_count": null,
   "id": "9d803417-096b-4be4-bb95-dee15b957a0d",
   "metadata": {},
   "outputs": [],
   "source": [
    "title_set = set(d1[\"title\"].values)\n",
    "\n",
    "title_list = []\n",
    "etitle_list = []\n",
    "\n",
    "for title in title_set:\n",
    "    \n",
    "    etitle = clip.tokenize(title)\n",
    "    title_list.append(title)\n",
    "    etitle_list.append(etitle)\n",
    "    \n",
    "res = []\n",
    "chunk = 100\n",
    "idx = 0\n",
    "while True:\n",
    "    print(idx)\n",
    "    if idx >= len(etitle_list):\n",
    "        break\n",
    "    curr_list = torch.cat(etitle_list[idx:idx+chunk]).to(device)\n",
    "    with torch.no_grad():\n",
    "        curr_list = list(model.encode_text(curr_list))\n",
    "        res += curr_list\n",
    "    idx += chunk\n",
    "\n",
    "print(f\"saving encoded titles\")\n",
    "df = pd.DataFrame(data={\n",
    "    \"title\": title_list,\n",
    "    \"encoded_title\": res\n",
    "})\n",
    "\n",
    "write_pickle(osp.join(pickle_path, f\"titles.pkl\"), df)"
   ]
  },
  {
   "cell_type": "code",
   "execution_count": 19,
   "id": "3ea67e18-ced7-4a10-972e-e13743865418",
   "metadata": {},
   "outputs": [
    {
     "name": "stdout",
     "output_type": "stream",
     "text": [
      "processing category Kitchen & Dining Furniture, Bar Carts...\n",
      "processing uids...\n",
      "processing images...\n",
      "saving category images: Kitchen & Dining Furniture, Bar Carts\n",
      "processing category Bedroom Furniture, Jewelry Armoires...\n",
      "processing uids...\n",
      "processing images...\n",
      "saving category images: Bedroom Furniture, Jewelry Armoires\n",
      "processing category Kitchen & Dining Furniture, Dining Room Sets & Collections...\n",
      "processing uids...\n",
      "processing images...\n",
      "saving category images: Kitchen & Dining Furniture, Dining Room Sets & Collections\n",
      "processing category Bathroom Furniture...\n",
      "processing uids...\n",
      "processing images...\n",
      "saving category images: Bathroom Furniture\n",
      "processing category Living Room Furniture, Loveseats...\n",
      "processing uids...\n",
      "processing images...\n",
      "saving category images: Living Room Furniture, Loveseats\n",
      "processing category Living Room Furniture, Sofas & Couches...\n",
      "processing uids...\n",
      "processing images...\n",
      "saving category images: Living Room Furniture, Sofas & Couches\n",
      "processing category Entryway Furniture & Organization, Coat Racks...\n",
      "processing uids...\n",
      "processing images...\n",
      "saving category images: Entryway Furniture & Organization, Coat Racks\n",
      "processing category Furniture Ways to Shop, Statement Furniture...\n",
      "processing uids...\n",
      "processing images...\n",
      "saving category images: Furniture Ways to Shop, Statement Furniture\n",
      "processing category Bedroom Furniture, Bed Frames...\n",
      "processing uids...\n",
      "processing images...\n",
      "saving category images: Bedroom Furniture, Bed Frames\n",
      "processing category Home Office Furniture, Desks...\n",
      "processing uids...\n",
      "processing images...\n",
      "saving category images: Home Office Furniture, Desks\n",
      "processing category Living Room Furniture, Chairs, Recliners...\n",
      "processing uids...\n",
      "processing images...\n",
      "saving category images: Living Room Furniture, Chairs, Recliners\n",
      "processing category Kitchen & Dining Furniture, Folding Tables & Chairs...\n",
      "processing uids...\n",
      "processing images...\n",
      "saving category images: Kitchen & Dining Furniture, Folding Tables & Chairs\n",
      "processing category Living Room Furniture, Futons...\n",
      "processing uids...\n",
      "processing images...\n",
      "saving category images: Living Room Furniture, Futons\n",
      "processing category Home Office Furniture, Bookshelves & Bookcases...\n",
      "processing uids...\n",
      "processing images...\n",
      "saving category images: Home Office Furniture, Bookshelves & Bookcases\n",
      "processing category Living Room Furniture, Chairs, Bean Bag Chairs...\n",
      "processing uids...\n",
      "processing images...\n",
      "saving category images: Living Room Furniture, Chairs, Bean Bag Chairs\n",
      "processing category Kitchen & Dining Furniture, Kitchen Carts & Islands...\n",
      "processing uids...\n",
      "processing images...\n",
      "saving category images: Kitchen & Dining Furniture, Kitchen Carts & Islands\n",
      "processing category Living Room Furniture, Chairs, Gliders & Rockers...\n",
      "processing uids...\n",
      "processing images...\n",
      "saving category images: Living Room Furniture, Chairs, Gliders & Rockers\n",
      "processing category Entryway Furniture & Organization...\n",
      "processing uids...\n",
      "processing images...\n",
      "saving category images: Entryway Furniture & Organization\n",
      "processing category Living Room Furniture, Sectional Sofas...\n",
      "processing uids...\n",
      "processing images...\n",
      "saving category images: Living Room Furniture, Sectional Sofas\n",
      "processing category Living Room Furniture, Room Dividers...\n",
      "processing uids...\n",
      "processing images...\n",
      "saving category images: Living Room Furniture, Room Dividers\n"
     ]
    }
   ],
   "source": [
    "for cat in cat_set:\n",
    "    \n",
    "    store_path = osp.join(pickle_path, f\"{cat}.pkl\")\n",
    "    if osp.exists(store_path):\n",
    "        continue\n",
    "\n",
    "    print(f\"processing category {cat}...\")\n",
    "    print(\"processing uids...\")\n",
    "    uid_list = []\n",
    "    for idx, row in d1[d1[\"combined_category\"] == cat].iterrows():\n",
    "        uid = row.uniq_id\n",
    "        uid_list.append(uid)\n",
    "    \n",
    "    print(\"processing images...\")\n",
    "    image = torch.cat([preprocess(Image.open(image_path(uid))).unsqueeze(0) for uid in uid_list]).to(device)\n",
    "    with torch.no_grad():\n",
    "        eimage_list = list(model.encode_image(image))\n",
    "        \n",
    "    if len(uid_list) > 0:\n",
    "        print(f\"saving category images: {cat}\")\n",
    "        df = pd.DataFrame(data={\n",
    "            \"uid\": uid_list,\n",
    "            \"encoded_image\": eimage_list\n",
    "        })\n",
    "        write_pickle(store_path, df)"
   ]
  },
  {
   "cell_type": "code",
   "execution_count": null,
   "id": "5d495454-863b-4a2a-a946-0e578a7927c4",
   "metadata": {},
   "outputs": [],
   "source": [
    "short_set = set(d1[\"short\"].values)\n",
    "\n",
    "short_list = []\n",
    "eshort_list = []\n",
    "\n",
    "for short in short_set:\n",
    "    \n",
    "    eshort = clip.tokenize(short)\n",
    "    short_list.append(short)\n",
    "    eshort_list.append(eshort)\n",
    "    \n",
    "eshort_list = torch.cat(eshort_list).to(device)\n",
    "with torch.no_grad():\n",
    "    eshort_list = list(model.encode_text(eshort_list))\n",
    "\n",
    "print(f\"saving encoded shorts\")\n",
    "df = pd.DataFrame(data={\n",
    "    \"short\": short_list,\n",
    "    \"encoded_short\": eshort_list\n",
    "})\n",
    "\n",
    "write_pickle(osp.join(pickle_path, f\"shorts.pkl\"), df)"
   ]
  }
 ],
 "metadata": {
  "kernelspec": {
   "display_name": "Python 3 (ipykernel)",
   "language": "python",
   "name": "python3"
  },
  "language_info": {
   "codemirror_mode": {
    "name": "ipython",
    "version": 3
   },
   "file_extension": ".py",
   "mimetype": "text/x-python",
   "name": "python",
   "nbconvert_exporter": "python",
   "pygments_lexer": "ipython3",
   "version": "3.9.1"
  }
 },
 "nbformat": 4,
 "nbformat_minor": 5
}
