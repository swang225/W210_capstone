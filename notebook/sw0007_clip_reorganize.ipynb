{
 "cells": [
  {
   "cell_type": "code",
   "execution_count": 1,
   "id": "f6154937-4e10-48fb-83a4-485fc6517eb2",
   "metadata": {},
   "outputs": [],
   "source": [
    "import torch\n",
    "import torch.nn as nn\n",
    "import clip\n",
    "from PIL import Image\n",
    "import pandas as pd\n",
    "import requests\n",
    "import os.path as osp\n",
    "import pickle\n",
    "import random\n",
    "import numpy as np\n",
    "from pathlib import Path\n",
    "import sys\n",
    "from operator import itemgetter\n",
    "import matplotlib.pyplot as plt\n",
    "import matplotlib.image as mpimg\n",
    "import time"
   ]
  },
  {
   "cell_type": "code",
   "execution_count": 2,
   "id": "2a7d4f4d-7b29-4f6d-89b9-7aa8f2de1457",
   "metadata": {},
   "outputs": [],
   "source": [
    "import os\n",
    "os.environ[\"KMP_DUPLICATE_LIB_OK\"]=\"TRUE\""
   ]
  },
  {
   "cell_type": "code",
   "execution_count": 3,
   "id": "6e487f22-1878-4bd6-8e7a-9e63f3a033bf",
   "metadata": {},
   "outputs": [],
   "source": [
    "dataset_path = \"C:/Users/aphri/Documents/t0002/work/data/w210_data/target_store_furniture_datasets.csv\"\n",
    "image_storage = \"C:/Users/aphri/Documents/t0002/work/data/w210_data/target_images\"\n",
    "pickle_path = \"C:/Users/aphri/Documents/t0002/work/data/w210_data/pickle\"\n",
    "model_path = \"C:/Users/aphri/Documents/t0002/work/data/w210_data/model\"\n",
    "\n",
    "Path(image_storage).mkdir(parents=True, exist_ok=True)\n",
    "Path(pickle_path).mkdir(parents=True, exist_ok=True)\n",
    "Path(model_path).mkdir(parents=True, exist_ok=True)"
   ]
  },
  {
   "cell_type": "code",
   "execution_count": 4,
   "id": "4e6169b2-74dc-483f-80ce-795b6f43f182",
   "metadata": {},
   "outputs": [],
   "source": [
    "device = \"cuda\" if torch.cuda.is_available() else \"cpu\"\n",
    "model, preprocess = clip.load(\"ViT-B/32\", device=device)"
   ]
  },
  {
   "cell_type": "code",
   "execution_count": 5,
   "id": "468f0bdc-8189-4401-bc43-f22146adbc6e",
   "metadata": {},
   "outputs": [],
   "source": [
    "d1 = pd.read_csv(dataset_path)"
   ]
  },
  {
   "cell_type": "code",
   "execution_count": 6,
   "id": "f5575cfa-6911-4d9a-b18d-78dc5dc468df",
   "metadata": {},
   "outputs": [
    {
     "data": {
      "text/html": [
       "<div>\n",
       "<style scoped>\n",
       "    .dataframe tbody tr th:only-of-type {\n",
       "        vertical-align: middle;\n",
       "    }\n",
       "\n",
       "    .dataframe tbody tr th {\n",
       "        vertical-align: top;\n",
       "    }\n",
       "\n",
       "    .dataframe thead th {\n",
       "        text-align: right;\n",
       "    }\n",
       "</style>\n",
       "<table border=\"1\" class=\"dataframe\">\n",
       "  <thead>\n",
       "    <tr style=\"text-align: right;\">\n",
       "      <th></th>\n",
       "      <th>title</th>\n",
       "      <th>url</th>\n",
       "      <th>brand</th>\n",
       "      <th>main_image</th>\n",
       "      <th>sku</th>\n",
       "      <th>description</th>\n",
       "      <th>raw_description</th>\n",
       "      <th>gtin13</th>\n",
       "      <th>currency</th>\n",
       "      <th>price</th>\n",
       "      <th>...</th>\n",
       "      <th>sub_category_1</th>\n",
       "      <th>sub_category_2</th>\n",
       "      <th>sub_category_3</th>\n",
       "      <th>images</th>\n",
       "      <th>raw_specifications</th>\n",
       "      <th>specifications</th>\n",
       "      <th>highlights</th>\n",
       "      <th>raw_highlights</th>\n",
       "      <th>uniq_id</th>\n",
       "      <th>scraped_at</th>\n",
       "    </tr>\n",
       "  </thead>\n",
       "  <tbody>\n",
       "    <tr>\n",
       "      <th>0</th>\n",
       "      <td>Salinas Mission Desk &amp; Hutch Antique White - B...</td>\n",
       "      <td>https://www.target.com/p/salinas-mission-desk-...</td>\n",
       "      <td>Bush Furniture</td>\n",
       "      <td>https://target.scene7.com/is/image/Target/GUES...</td>\n",
       "      <td>50393086</td>\n",
       "      <td>The Bush Furniture Salinas Small Computer Desk...</td>\n",
       "      <td>&lt;div class=\"h-margin-v-default\" data-test=\"ite...</td>\n",
       "      <td>42976502997</td>\n",
       "      <td>USD</td>\n",
       "      <td>449.99</td>\n",
       "      <td>...</td>\n",
       "      <td>Home Office Furniture</td>\n",
       "      <td>Desks</td>\n",
       "      <td>NaN</td>\n",
       "      <td>https://target.scene7.com/is/image/Target/GUES...</td>\n",
       "      <td>&lt;div class=\"styles__StyledCol-sc-ct8kx6-0 iKGd...</td>\n",
       "      <td>Dimensions (Overall): 62.87 Inches (H) x 47.16...</td>\n",
       "      <td>Compact 48W x 23D design presents an ideal com...</td>\n",
       "      <td>&lt;li class=\"styles__Bullet-sc-6aebpn-0 eIfLaI\"&gt;...</td>\n",
       "      <td>c456e14d-0693-5552-8f90-eead4a0f1f50</td>\n",
       "      <td>2022-06-12</td>\n",
       "    </tr>\n",
       "    <tr>\n",
       "      <th>1</th>\n",
       "      <td>Finish Dresser with 6 Drawers White - Benzara</td>\n",
       "      <td>https://www.target.com/p/finish-dresser-with-6...</td>\n",
       "      <td>Benzara</td>\n",
       "      <td>https://target.scene7.com/is/image/Target/GUES...</td>\n",
       "      <td>78671604</td>\n",
       "      <td>You can have extra storage space for your bedr...</td>\n",
       "      <td>&lt;div class=\"h-margin-v-default\" data-test=\"ite...</td>\n",
       "      <td>842822178709</td>\n",
       "      <td>USD</td>\n",
       "      <td>307.49</td>\n",
       "      <td>...</td>\n",
       "      <td>Bedroom Furniture</td>\n",
       "      <td>Dressers</td>\n",
       "      <td>NaN</td>\n",
       "      <td>https://target.scene7.com/is/image/Target/GUES...</td>\n",
       "      <td>&lt;div class=\"styles__StyledCol-sc-ct8kx6-0 iKGd...</td>\n",
       "      <td>Number of Pieces: 1 | Number of Pieces: 1 | Di...</td>\n",
       "      <td>Elegant dresser has 6 drawers with hollow meta...</td>\n",
       "      <td>&lt;li class=\"styles__Bullet-sc-6aebpn-0 eIfLaI\"&gt;...</td>\n",
       "      <td>b020d91e-77ab-5c3e-b1e6-2fe01abe41b6</td>\n",
       "      <td>2022-06-12</td>\n",
       "    </tr>\n",
       "    <tr>\n",
       "      <th>2</th>\n",
       "      <td>Full Arcadia Nailbutton Metallic Upholstered B...</td>\n",
       "      <td>https://www.target.com/p/full-arcadia-nailbutt...</td>\n",
       "      <td>Skyline Furniture</td>\n",
       "      <td>https://target.scene7.com/is/image/Target/GUES...</td>\n",
       "      <td>49158084</td>\n",
       "      <td>Clean lines and lustrous nailheads give this u...</td>\n",
       "      <td>&lt;div class=\"h-margin-v-default\" data-test=\"ite...</td>\n",
       "      <td>840966280517</td>\n",
       "      <td>USD</td>\n",
       "      <td>807.99</td>\n",
       "      <td>...</td>\n",
       "      <td>Bedroom Furniture</td>\n",
       "      <td>Beds</td>\n",
       "      <td>NaN</td>\n",
       "      <td>https://target.scene7.com/is/image/Target/GUES...</td>\n",
       "      <td>&lt;div class=\"styles__StyledCol-sc-ct8kx6-0 iKGd...</td>\n",
       "      <td>Dimensions (Overall): 51.0 Inches (H) x 50.0 I...</td>\n",
       "      <td>To find the look that is right for you, order ...</td>\n",
       "      <td>&lt;li class=\"styles__Bullet-sc-6aebpn-0 eIfLaI\"&gt;...</td>\n",
       "      <td>d0972ad8-c10a-5d84-86a1-4d25cd361229</td>\n",
       "      <td>2022-06-12</td>\n",
       "    </tr>\n",
       "    <tr>\n",
       "      <th>3</th>\n",
       "      <td>Broadway Side Cabinet Black - Lifestorey</td>\n",
       "      <td>https://www.target.com/p/broadway-side-cabinet...</td>\n",
       "      <td>Lifestorey</td>\n",
       "      <td>https://target.scene7.com/is/image/Target/GUES...</td>\n",
       "      <td>80273366</td>\n",
       "      <td>Enhance the look of your room with the Broadwa...</td>\n",
       "      <td>&lt;div class=\"h-margin-v-default\" data-test=\"ite...</td>\n",
       "      <td>24319119024</td>\n",
       "      <td>USD</td>\n",
       "      <td>249.99</td>\n",
       "      <td>...</td>\n",
       "      <td>Living Room Furniture</td>\n",
       "      <td>Storage Furniture</td>\n",
       "      <td>NaN</td>\n",
       "      <td>https://target.scene7.com/is/image/Target/GUES...</td>\n",
       "      <td>&lt;div class=\"styles__StyledCol-sc-ct8kx6-0 iKGd...</td>\n",
       "      <td>Dimensions (Overall): 34 Inches (H) x 19 Inche...</td>\n",
       "      <td>Includes one (1) side cabinet with quatrefoil ...</td>\n",
       "      <td>&lt;li class=\"styles__Bullet-sc-6aebpn-0 eIfLaI\"&gt;...</td>\n",
       "      <td>dade134d-f251-5120-97be-23eb1e01c0f8</td>\n",
       "      <td>2022-06-12</td>\n",
       "    </tr>\n",
       "    <tr>\n",
       "      <th>4</th>\n",
       "      <td>2pk Backpback Lawn Chairs with Silver Frame - ...</td>\n",
       "      <td>https://www.target.com/p/2pk-backpback-lawn-ch...</td>\n",
       "      <td>Life is Good</td>\n",
       "      <td>https://target.scene7.com/is/image/Target/GUES...</td>\n",
       "      <td>85644896</td>\n",
       "      <td>Keep it simple with this sturdy and dependable...</td>\n",
       "      <td>&lt;div class=\"h-margin-v-default\" data-test=\"ite...</td>\n",
       "      <td>722938140978</td>\n",
       "      <td>USD</td>\n",
       "      <td>279.99</td>\n",
       "      <td>...</td>\n",
       "      <td>Patio Furniture</td>\n",
       "      <td>Patio Chairs</td>\n",
       "      <td>NaN</td>\n",
       "      <td>https://target.scene7.com/is/image/Target/GUES...</td>\n",
       "      <td>&lt;div class=\"styles__StyledCol-sc-ct8kx6-0 iKGd...</td>\n",
       "      <td>Number of Pieces: 2 | Number of Pieces: 2 | Se...</td>\n",
       "      <td>Set of two | Rustproof aluminum frame | Remova...</td>\n",
       "      <td>&lt;li class=\"styles__Bullet-sc-6aebpn-0 eIfLaI\"&gt;...</td>\n",
       "      <td>f2e0d558-e93f-541b-98b1-6fff36f1dc89</td>\n",
       "      <td>2022-06-12</td>\n",
       "    </tr>\n",
       "  </tbody>\n",
       "</table>\n",
       "<p>5 rows × 24 columns</p>\n",
       "</div>"
      ],
      "text/plain": [
       "                                               title  \\\n",
       "0  Salinas Mission Desk & Hutch Antique White - B...   \n",
       "1      Finish Dresser with 6 Drawers White - Benzara   \n",
       "2  Full Arcadia Nailbutton Metallic Upholstered B...   \n",
       "3           Broadway Side Cabinet Black - Lifestorey   \n",
       "4  2pk Backpback Lawn Chairs with Silver Frame - ...   \n",
       "\n",
       "                                                 url              brand  \\\n",
       "0  https://www.target.com/p/salinas-mission-desk-...     Bush Furniture   \n",
       "1  https://www.target.com/p/finish-dresser-with-6...            Benzara   \n",
       "2  https://www.target.com/p/full-arcadia-nailbutt...  Skyline Furniture   \n",
       "3  https://www.target.com/p/broadway-side-cabinet...         Lifestorey   \n",
       "4  https://www.target.com/p/2pk-backpback-lawn-ch...       Life is Good   \n",
       "\n",
       "                                          main_image       sku  \\\n",
       "0  https://target.scene7.com/is/image/Target/GUES...  50393086   \n",
       "1  https://target.scene7.com/is/image/Target/GUES...  78671604   \n",
       "2  https://target.scene7.com/is/image/Target/GUES...  49158084   \n",
       "3  https://target.scene7.com/is/image/Target/GUES...  80273366   \n",
       "4  https://target.scene7.com/is/image/Target/GUES...  85644896   \n",
       "\n",
       "                                         description  \\\n",
       "0  The Bush Furniture Salinas Small Computer Desk...   \n",
       "1  You can have extra storage space for your bedr...   \n",
       "2  Clean lines and lustrous nailheads give this u...   \n",
       "3  Enhance the look of your room with the Broadwa...   \n",
       "4  Keep it simple with this sturdy and dependable...   \n",
       "\n",
       "                                     raw_description        gtin13 currency  \\\n",
       "0  <div class=\"h-margin-v-default\" data-test=\"ite...   42976502997      USD   \n",
       "1  <div class=\"h-margin-v-default\" data-test=\"ite...  842822178709      USD   \n",
       "2  <div class=\"h-margin-v-default\" data-test=\"ite...  840966280517      USD   \n",
       "3  <div class=\"h-margin-v-default\" data-test=\"ite...   24319119024      USD   \n",
       "4  <div class=\"h-margin-v-default\" data-test=\"ite...  722938140978      USD   \n",
       "\n",
       "    price  ...         sub_category_1     sub_category_2  sub_category_3  \\\n",
       "0  449.99  ...  Home Office Furniture              Desks             NaN   \n",
       "1  307.49  ...      Bedroom Furniture           Dressers             NaN   \n",
       "2  807.99  ...      Bedroom Furniture               Beds             NaN   \n",
       "3  249.99  ...  Living Room Furniture  Storage Furniture             NaN   \n",
       "4  279.99  ...        Patio Furniture       Patio Chairs             NaN   \n",
       "\n",
       "                                              images  \\\n",
       "0  https://target.scene7.com/is/image/Target/GUES...   \n",
       "1  https://target.scene7.com/is/image/Target/GUES...   \n",
       "2  https://target.scene7.com/is/image/Target/GUES...   \n",
       "3  https://target.scene7.com/is/image/Target/GUES...   \n",
       "4  https://target.scene7.com/is/image/Target/GUES...   \n",
       "\n",
       "                                  raw_specifications  \\\n",
       "0  <div class=\"styles__StyledCol-sc-ct8kx6-0 iKGd...   \n",
       "1  <div class=\"styles__StyledCol-sc-ct8kx6-0 iKGd...   \n",
       "2  <div class=\"styles__StyledCol-sc-ct8kx6-0 iKGd...   \n",
       "3  <div class=\"styles__StyledCol-sc-ct8kx6-0 iKGd...   \n",
       "4  <div class=\"styles__StyledCol-sc-ct8kx6-0 iKGd...   \n",
       "\n",
       "                                      specifications  \\\n",
       "0  Dimensions (Overall): 62.87 Inches (H) x 47.16...   \n",
       "1  Number of Pieces: 1 | Number of Pieces: 1 | Di...   \n",
       "2  Dimensions (Overall): 51.0 Inches (H) x 50.0 I...   \n",
       "3  Dimensions (Overall): 34 Inches (H) x 19 Inche...   \n",
       "4  Number of Pieces: 2 | Number of Pieces: 2 | Se...   \n",
       "\n",
       "                                          highlights  \\\n",
       "0  Compact 48W x 23D design presents an ideal com...   \n",
       "1  Elegant dresser has 6 drawers with hollow meta...   \n",
       "2  To find the look that is right for you, order ...   \n",
       "3  Includes one (1) side cabinet with quatrefoil ...   \n",
       "4  Set of two | Rustproof aluminum frame | Remova...   \n",
       "\n",
       "                                      raw_highlights  \\\n",
       "0  <li class=\"styles__Bullet-sc-6aebpn-0 eIfLaI\">...   \n",
       "1  <li class=\"styles__Bullet-sc-6aebpn-0 eIfLaI\">...   \n",
       "2  <li class=\"styles__Bullet-sc-6aebpn-0 eIfLaI\">...   \n",
       "3  <li class=\"styles__Bullet-sc-6aebpn-0 eIfLaI\">...   \n",
       "4  <li class=\"styles__Bullet-sc-6aebpn-0 eIfLaI\">...   \n",
       "\n",
       "                                uniq_id  scraped_at  \n",
       "0  c456e14d-0693-5552-8f90-eead4a0f1f50  2022-06-12  \n",
       "1  b020d91e-77ab-5c3e-b1e6-2fe01abe41b6  2022-06-12  \n",
       "2  d0972ad8-c10a-5d84-86a1-4d25cd361229  2022-06-12  \n",
       "3  dade134d-f251-5120-97be-23eb1e01c0f8  2022-06-12  \n",
       "4  f2e0d558-e93f-541b-98b1-6fff36f1dc89  2022-06-12  \n",
       "\n",
       "[5 rows x 24 columns]"
      ]
     },
     "execution_count": 6,
     "metadata": {},
     "output_type": "execute_result"
    }
   ],
   "source": [
    "d1.head()"
   ]
  },
  {
   "cell_type": "code",
   "execution_count": 7,
   "id": "71850fdc-5a92-4500-8703-ab59bf271ce8",
   "metadata": {},
   "outputs": [
    {
     "data": {
      "text/plain": [
       "Index(['title', 'url', 'brand', 'main_image', 'sku', 'description',\n",
       "       'raw_description', 'gtin13', 'currency', 'price', 'availability',\n",
       "       'availableDeliveryMethod', 'available_branch', 'primary_category',\n",
       "       'sub_category_1', 'sub_category_2', 'sub_category_3', 'images',\n",
       "       'raw_specifications', 'specifications', 'highlights', 'raw_highlights',\n",
       "       'uniq_id', 'scraped_at'],\n",
       "      dtype='object')"
      ]
     },
     "execution_count": 7,
     "metadata": {},
     "output_type": "execute_result"
    }
   ],
   "source": [
    "d1.columns"
   ]
  },
  {
   "cell_type": "code",
   "execution_count": 8,
   "id": "b1f238d3-a09e-49ae-ad8f-574a1a8510f5",
   "metadata": {},
   "outputs": [],
   "source": [
    "d2 = d1[[\"uniq_id\", \"sub_category_1\", \"sub_category_2\", \"sub_category_3\"]]"
   ]
  },
  {
   "cell_type": "code",
   "execution_count": 12,
   "id": "4232cd25-7e97-4c59-a9e1-ffaf4cc5baab",
   "metadata": {},
   "outputs": [
    {
     "data": {
      "text/plain": [
       "array(['Accessories', 'Action Figures & Playsets', 'Amplifiers & Effects',\n",
       "       'Automotive', 'Baby Safety', 'Bar & Wine', 'Bathroom Furniture',\n",
       "       'Bedroom Furniture', 'Boards & Easels', 'Books', 'Camping Gear',\n",
       "       'Cat Supplies', 'Christmas', 'Cleaning Supplies',\n",
       "       'Decor Style Ideas', 'Desk Organization', 'Dog Supplies',\n",
       "       'Dolls & Dollhouses', 'Dorm Furniture', 'Dress Up & Pretend Play',\n",
       "       'Entryway Furniture & Organization', 'Fall Lawn Cleanup',\n",
       "       'Fire Pits & Patio Heaters', 'Furniture Deal of the Day',\n",
       "       'Furniture Ways to Shop', 'Heating, Cooling & Air Quality',\n",
       "       'Home Appliances', 'Home Deals', 'Home Decor', 'Home Improvement',\n",
       "       'Home Office Furniture', \"Kids' Crafts\", \"Kids' Home\",\n",
       "       'Kitchen & Dining Furniture', 'Kitchen & Table Linens',\n",
       "       'Laundry Care', 'Lawn & Garden', 'Living Room Furniture', 'Music',\n",
       "       'Nintendo Switch', 'Nursery', 'Outdoor Decor', 'Outdoor Dining',\n",
       "       'Outdoor Recreation', 'Outdoor Shade & Structures',\n",
       "       'Packing & Mailing Supplies', 'Patio Furniture',\n",
       "       'Small Space Furniture', 'Sports & Outdoors Deals',\n",
       "       'Storage & Organization', 'Tech Services & Support', 'Toy Deals'],\n",
       "      dtype=object)"
      ]
     },
     "execution_count": 12,
     "metadata": {},
     "output_type": "execute_result"
    }
   ],
   "source": [
    "np.unique(d2[\"sub_category_1\"].dropna())"
   ]
  },
  {
   "cell_type": "code",
   "execution_count": 13,
   "id": "ae55a19f-47ed-40cd-bae5-7e3c13c571a3",
   "metadata": {},
   "outputs": [
    {
     "data": {
      "text/plain": [
       "42078"
      ]
     },
     "execution_count": 13,
     "metadata": {},
     "output_type": "execute_result"
    }
   ],
   "source": [
    "len(d2[\"sub_category_1\"].dropna())"
   ]
  },
  {
   "cell_type": "code",
   "execution_count": 14,
   "id": "806be035-fa97-4cb0-9ae4-72f890ed9d53",
   "metadata": {},
   "outputs": [
    {
     "data": {
      "text/plain": [
       "41525"
      ]
     },
     "execution_count": 14,
     "metadata": {},
     "output_type": "execute_result"
    }
   ],
   "source": [
    "len(d2[\"sub_category_2\"].dropna())"
   ]
  },
  {
   "cell_type": "code",
   "execution_count": 15,
   "id": "07d9b46d-ac57-4780-8003-aea78c543e23",
   "metadata": {},
   "outputs": [
    {
     "data": {
      "text/plain": [
       "5118"
      ]
     },
     "execution_count": 15,
     "metadata": {},
     "output_type": "execute_result"
    }
   ],
   "source": [
    "len(d2[\"sub_category_3\"].dropna())"
   ]
  },
  {
   "cell_type": "code",
   "execution_count": null,
   "id": "7a5a44ab-3e62-47f5-ad29-d8a617e8681a",
   "metadata": {},
   "outputs": [],
   "source": []
  }
 ],
 "metadata": {
  "kernelspec": {
   "display_name": "Python 3",
   "language": "python",
   "name": "python3"
  },
  "language_info": {
   "codemirror_mode": {
    "name": "ipython",
    "version": 3
   },
   "file_extension": ".py",
   "mimetype": "text/x-python",
   "name": "python",
   "nbconvert_exporter": "python",
   "pygments_lexer": "ipython3",
   "version": "3.9.5"
  }
 },
 "nbformat": 4,
 "nbformat_minor": 5
}
